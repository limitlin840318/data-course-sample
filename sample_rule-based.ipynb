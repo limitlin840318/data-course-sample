{
  "cells": [
    {
      "cell_type": "markdown",
      "metadata": {
        "id": "MZclbxGREeZx"
      },
      "source": [
        "## 基礎建設"
      ],
      "id": "MZclbxGREeZx"
    },
    {
      "cell_type": "code",
      "execution_count": 170,
      "metadata": {
        "scrolled": true,
        "id": "oTfJxIZ7EeZz"
      },
      "outputs": [],
      "source": [
        "import pandas as pd\n",
        "import gzip, json\n",
        "\n",
        "def parse(path):\n",
        "    g = gzip.open(path, 'rb')\n",
        "    for l in g:\n",
        "        yield json.loads(l)\n",
        "\n",
        "def getDF(path):\n",
        "    i = 0\n",
        "    df = {}\n",
        "    for d in parse(path):\n",
        "        df[i] = d\n",
        "        i += 1\n",
        "    return pd.DataFrame.from_dict(df, orient='index')"
      ],
      "id": "oTfJxIZ7EeZz"
    },
    {
      "cell_type": "markdown",
      "metadata": {
        "id": "S3FRKjMjEeZ1"
      },
      "source": [
        "## 載入資料"
      ],
      "id": "S3FRKjMjEeZ1"
    },
    {
      "cell_type": "code",
      "execution_count": 171,
      "metadata": {
        "colab": {
          "base_uri": "https://localhost:8080/"
        },
        "id": "hfNZAOuSEeZ2",
        "outputId": "2774ed59-27c7-426a-e332-e0b0b6811830"
      },
      "outputs": [
        {
          "output_type": "stream",
          "name": "stdout",
          "text": [
            "--2021-12-26 15:47:04--  http://deepyeti.ucsd.edu/jianmo/amazon/categoryFilesSmall/All_Beauty.csv\n",
            "Resolving deepyeti.ucsd.edu (deepyeti.ucsd.edu)... 169.228.63.50\n",
            "Connecting to deepyeti.ucsd.edu (deepyeti.ucsd.edu)|169.228.63.50|:80... connected.\n",
            "HTTP request sent, awaiting response... 200 OK\n",
            "Length: 15499476 (15M) [application/octet-stream]\n",
            "Saving to: ‘All_Beauty.csv.2’\n",
            "\n",
            "All_Beauty.csv.2    100%[===================>]  14.78M  24.5MB/s    in 0.6s    \n",
            "\n",
            "2021-12-26 15:47:05 (24.5 MB/s) - ‘All_Beauty.csv.2’ saved [15499476/15499476]\n",
            "\n",
            "--2021-12-26 15:47:05--  http://deepyeti.ucsd.edu/jianmo/amazon/metaFiles2/meta_All_Beauty.json.gz\n",
            "Resolving deepyeti.ucsd.edu (deepyeti.ucsd.edu)... 169.228.63.50\n",
            "Connecting to deepyeti.ucsd.edu (deepyeti.ucsd.edu)|169.228.63.50|:80... connected.\n",
            "HTTP request sent, awaiting response... 200 OK\n",
            "Length: 10329961 (9.9M) [application/octet-stream]\n",
            "Saving to: ‘meta_All_Beauty.json.gz.2’\n",
            "\n",
            "meta_All_Beauty.jso 100%[===================>]   9.85M  18.6MB/s    in 0.5s    \n",
            "\n",
            "2021-12-26 15:47:06 (18.6 MB/s) - ‘meta_All_Beauty.json.gz.2’ saved [10329961/10329961]\n",
            "\n"
          ]
        }
      ],
      "source": [
        "!wget http://deepyeti.ucsd.edu/jianmo/amazon/categoryFilesSmall/All_Beauty.csv\n",
        "!wget http://deepyeti.ucsd.edu/jianmo/amazon/metaFiles2/meta_All_Beauty.json.gz"
      ],
      "id": "hfNZAOuSEeZ2"
    },
    {
      "cell_type": "code",
      "execution_count": 172,
      "metadata": {
        "id": "FC58K8_dEeZ3"
      },
      "outputs": [],
      "source": [
        "#商品的基本資訊 metadata,購買商品的紀錄 ratings\n",
        "metadata = getDF('/content/meta_All_Beauty.json.gz')\n",
        "ratings = pd.read_csv('/content/All_Beauty.csv', names=['asin', 'reviewerID', 'overall', 'unixReviewTime'], header=None)"
      ],
      "id": "FC58K8_dEeZ3"
    },
    {
      "cell_type": "markdown",
      "metadata": {
        "id": "5QRC8P4CEeZ5"
      },
      "source": [
        "## 資料整理"
      ],
      "id": "5QRC8P4CEeZ5"
    },
    {
      "cell_type": "code",
      "source": [
        "import pandas as pd\n",
        "import numpy as np\n",
        "import matplotlib.pyplot as plt"
      ],
      "metadata": {
        "id": "dqSMOD7Qta_t"
      },
      "id": "dqSMOD7Qta_t",
      "execution_count": 173,
      "outputs": []
    },
    {
      "cell_type": "code",
      "execution_count": 174,
      "metadata": {
        "id": "xLc1tIvBEeZ6"
      },
      "outputs": [],
      "source": [
        "ratings['DATE'] = pd.to_datetime(ratings['unixReviewTime'], unit='s')"
      ],
      "id": "xLc1tIvBEeZ6"
    },
    {
      "cell_type": "code",
      "source": [
        "#no_ratings = ratings[['reviewerID','asin']].groupby(\"reviewerID\").count().sort_values(by=['asin'], ascending=False).reset_index()"
      ],
      "metadata": {
        "id": "ngRHmkF_x1H9"
      },
      "id": "ngRHmkF_x1H9",
      "execution_count": 201,
      "outputs": []
    },
    {
      "cell_type": "code",
      "source": [
        "# 商品資訊-只留下要求的欄位\n",
        "purchase_df = metadata[['asin', 'brand', 'title', 'price', 'rank']]\n",
        "\n",
        "#商品資訊-買什麼種類\n",
        "purchase_df['categories'] = purchase_df['rank'].str.split(expand = True).loc[:, 2:5].apply(lambda row: ''.join(row.values.astype(str)), axis=1)\n",
        "\n",
        "# 取出字串前段數字,取代掉千分位\n",
        "purchase_df['rank'] = purchase_df['rank'].str.split(expand = True)[0].str.replace(',', '')\n",
        "#轉換型別\n",
        "purchase_df['rank'] = pd.to_numeric(purchase_df['rank'])"
      ],
      "metadata": {
        "id": "eCWkWeLdlIMC"
      },
      "id": "eCWkWeLdlIMC",
      "execution_count": 203,
      "outputs": []
    },
    {
      "cell_type": "code",
      "source": [
        "#商品資訊-對應類別\n",
        "purchase_category_df = purchase_df[['asin','categories']].drop_duplicates(subset=['asin','categories'])"
      ],
      "metadata": {
        "id": "NJzy59yE1Axa"
      },
      "id": "NJzy59yE1Axa",
      "execution_count": 204,
      "outputs": []
    },
    {
      "cell_type": "code",
      "source": [
        "ratings = pd.merge(ratings, purchase_category_df, on=\"asin\", how=\"left\").fillna(\"unknown\")"
      ],
      "metadata": {
        "id": "602GDgtXyPON"
      },
      "id": "602GDgtXyPON",
      "execution_count": 182,
      "outputs": []
    },
    {
      "cell_type": "markdown",
      "source": [
        "# 資料描繪"
      ],
      "metadata": {
        "id": "_1ohsItqOlMW"
      },
      "id": "_1ohsItqOlMW"
    },
    {
      "cell_type": "code",
      "source": [
        "import warnings\n",
        "warnings.filterwarnings(\"ignore\")\n",
        "import pandas as pd\n",
        "import numpy as np\n",
        "import matplotlib.pyplot as plt\n",
        "import seaborn as sns\n",
        "from matplotlib.lines import Line2D"
      ],
      "metadata": {
        "id": "-u1eieq6JKBj"
      },
      "id": "-u1eieq6JKBj",
      "execution_count": 184,
      "outputs": []
    },
    {
      "cell_type": "code",
      "source": [
        "def long_tail_plot(df, item_id_column, interaction_type, percentage=None, x_labels=True):\n",
        "    #calculate cumulative volumes\n",
        "    volume_df = df[item_id_column].value_counts().reset_index()\n",
        "    volume_df.columns = [item_id_column, \"volume\"]\n",
        "    volume_df[item_id_column] = volume_df[item_id_column].astype(str)\n",
        "    volume_df['cumulative_volume'] = volume_df['volume'].cumsum()\n",
        "    volume_df['percent_of_total_volume'] = volume_df['cumulative_volume']/volume_df['volume'].sum()\n",
        "\n",
        "    #line plot of cumulative volume\n",
        "    x=range(0,len(volume_df))\n",
        "    ax = sns.lineplot(x, y=\"volume\", data=volume_df, color=\"black\")\n",
        "    plt.xticks(x)\n",
        "\n",
        "    #set labels\n",
        "    ax.set_title('Long Tail Plot')\n",
        "    ax.set_ylabel('# of ' + interaction_type)\n",
        "    ax.set_xlabel(item_id_column)\n",
        "\n",
        "    if percentage != None:\n",
        "        #plot vertical line at the tail location\n",
        "        head = volume_df[volume_df[\"percent_of_total_volume\"] <= percentage]\n",
        "        tail = volume_df[volume_df[\"percent_of_total_volume\"] > percentage]\n",
        "        items_in_head = len(head)\n",
        "        items_in_tail = len(tail)\n",
        "        plt.axvline(x=items_in_head, color=\"red\",  linestyle='--')\n",
        "\n",
        "        # fill area under plot\n",
        "        head = head.append(tail.head(1))\n",
        "        x1 = head.index.values\n",
        "        y1 = head['volume']\n",
        "        x2 = tail.index.values\n",
        "        y2 = tail['volume']\n",
        "        ax.fill_between(x1, y1, color=\"blue\", alpha=0.2)\n",
        "        ax.fill_between(x2, y2,  color=\"orange\", alpha=0.2)\n",
        "\n",
        "        #create legend\n",
        "        legend_elements = [Line2D([0], [0], marker='o', color='w', label=str(items_in_head)+': items in the head', markerfacecolor='blue', markersize=5),\n",
        "                           Line2D([0], [0], marker='o', color='w', label=str(items_in_tail)+': items in the tail', markerfacecolor='orange', markersize=5)]\n",
        "        ax.legend(handles=legend_elements, loc=1)\n",
        "\n",
        "    else:\n",
        "        x1 = volume_df[item_id_column]\n",
        "        y1 = volume_df['volume']\n",
        "        ax.fill_between(x1, y1, color=\"blue\", alpha=0.3)\n",
        "    if x_labels == False:\n",
        "        plt.xticks([], [])\n",
        "        ax.set(xticklabels=[])\n",
        "    else:\n",
        "        ax.set_xticklabels(labels = volume_df[item_id_column], rotation = 45, ha=\"right\")\n",
        "\n",
        "    plt.show()"
      ],
      "metadata": {
        "id": "aEYAknI89Z_e"
      },
      "id": "aEYAknI89Z_e",
      "execution_count": 185,
      "outputs": []
    },
    {
      "cell_type": "code",
      "source": [
        "import matplotlib.pyplot as plt\n",
        "fig=plt.figure(figsize=(15,7))\n",
        "long_tail_plot(df= ratings,\n",
        "                         item_id_column='asin',\n",
        "                         interaction_type='overall',\n",
        "                         percentage=0.2,\n",
        "                         x_labels=False)"
      ],
      "metadata": {
        "id": "CGn9VdAgJCwx",
        "colab": {
          "base_uri": "https://localhost:8080/",
          "height": 441
        },
        "outputId": "a8443c2e-378d-490d-8f54-2208148b5fa8"
      },
      "id": "CGn9VdAgJCwx",
      "execution_count": 186,
      "outputs": [
        {
          "output_type": "display_data",
          "data": {
            "image/png": "[encoded data removed]",
            "text/plain": [
              "<Figure size 1080x504 with 1 Axes>"
            ]
          },
          "metadata": {
            "needs_background": "light"
          }
        }
      ]
    },
    {
      "cell_type": "code",
      "source": [
        " def longtail_head_asin(df, item_id_column, percentage=None):\n",
        "    #calculate cumulative volumes\n",
        "    volume_df = df[item_id_column].value_counts().reset_index()\n",
        "    volume_df.columns = [item_id_column, \"volume\"]\n",
        "    volume_df[item_id_column] = volume_df[item_id_column].astype(str)\n",
        "    volume_df['cumulative_volume'] = volume_df['volume'].cumsum()\n",
        "    volume_df['percent_of_total_volume'] = volume_df['cumulative_volume']/volume_df['volume'].sum()\n",
        "\n",
        "    if percentage != None:\n",
        "        head = volume_df[volume_df[\"percent_of_total_volume\"] <= percentage]\n",
        "        tail = volume_df[volume_df[\"percent_of_total_volume\"] > percentage]\n",
        "        items_in_head = list(head['asin'].unique())\n",
        "        #items_in_tail = list(tail['asin'].unique())\n",
        "    return items_in_head"
      ],
      "metadata": {
        "id": "-RMUFrEsBwbf"
      },
      "id": "-RMUFrEsBwbf",
      "execution_count": 187,
      "outputs": []
    },
    {
      "cell_type": "code",
      "source": [
        "head_asin = longtail_head_asin(df= ratings,\n",
        "                         item_id_column='asin',\n",
        "                         percentage=0.2)"
      ],
      "metadata": {
        "id": "dsaNn5PzC0jr"
      },
      "id": "dsaNn5PzC0jr",
      "execution_count": 188,
      "outputs": []
    },
    {
      "cell_type": "markdown",
      "metadata": {
        "id": "fHZ8SdZREeZ6"
      },
      "source": [
        "## 資料切分"
      ],
      "id": "fHZ8SdZREeZ6"
    },
    {
      "cell_type": "code",
      "execution_count": 189,
      "metadata": {
        "id": "-8BEzAasEeZ6"
      },
      "outputs": [],
      "source": [
        "ratings_trainings = ratings[\n",
        "    (ratings['DATE'] < '2018-09-01')\n",
        "]\n",
        "ratings_testings = ratings[\n",
        "    (ratings['DATE'] >= '2018-09-01') & \n",
        "    (ratings['DATE'] <= '2018-09-30')\n",
        "]"
      ],
      "id": "-8BEzAasEeZ6"
    },
    {
      "cell_type": "code",
      "source": [
        "#group by 用戶ID {'asin': ['B017JBTB98'], 'reviewerID': 'ACCY5NWUNEC87'}\n",
        "ratings_testings_by_user = ratings_testings.groupby('reviewerID').agg(list).reset_index()[['reviewerID', 'asin']].to_dict('records')\n",
        "\n",
        "#換格式 {'A12M4U7WK4ALCR': ['B01DKQAXC0']}\n",
        "ratings_testings_by_user = { rating['reviewerID']: rating['asin'] for rating in ratings_testings_by_user }\n",
        "#所有用戶 'ATR9J7TYR1KVL'\n",
        "users = list(ratings_testings_by_user.keys())"
      ],
      "metadata": {
        "id": "UZtRFWtMJALR"
      },
      "id": "UZtRFWtMJALR",
      "execution_count": 190,
      "outputs": []
    },
    {
      "cell_type": "code",
      "source": [
        "user_category = ratings_trainings[ratings_trainings['categories'] != \"unknown\"].groupby(by=['reviewerID','categories']).size().reset_index()\n",
        "user_category.columns = [\"user\", \"categories\",\"volumn\"]\n",
        "grouped_df = user_category.groupby(\"user\")\n",
        "user_category_max = grouped_df.max()\n",
        "user_category_max = user_category_max.reset_index()"
      ],
      "metadata": {
        "id": "C_dFFabCy2ja"
      },
      "id": "C_dFFabCy2ja",
      "execution_count": 191,
      "outputs": []
    },
    {
      "cell_type": "code",
      "source": [
        "#pd.merge(user_category_max[['user', 'categories']],----,on='categories',how='outer')"
      ],
      "metadata": {
        "colab": {
          "base_uri": "https://localhost:8080/",
          "height": 135
        },
        "id": "v8huoywiUiVa",
        "outputId": "c87ef61f-167a-4139-bea5-a4e3c12641e4"
      },
      "id": "v8huoywiUiVa",
      "execution_count": 192,
      "outputs": [
        {
          "output_type": "error",
          "ename": "SyntaxError",
          "evalue": "ignored",
          "traceback": [
            "\u001b[0;36m  File \u001b[0;32m\"<ipython-input-192-13f34a5d0499>\"\u001b[0;36m, line \u001b[0;32m1\u001b[0m\n\u001b[0;31m    pd.merge(user_category_max[['user', 'categories']],----,on='categories',how='outer')\u001b[0m\n\u001b[0m                                                           ^\u001b[0m\n\u001b[0;31mSyntaxError\u001b[0m\u001b[0;31m:\u001b[0m invalid syntax\n"
          ]
        }
      ]
    },
    {
      "cell_type": "markdown",
      "metadata": {
        "id": "lHCZzzUCEeZ7"
      },
      "source": [
        "## 產生推薦"
      ],
      "id": "lHCZzzUCEeZ7"
    },
    {
      "cell_type": "code",
      "source": [
        "# 推薦最近三個月內銷量排行前十名的商品\n",
        "\n",
        "def recommender(training_data, users=[], k=10):\n",
        "    '''\n",
        "    * training_data: dataframe 輸入的訓練資料集（2018-09-01 以前資料）\n",
        "    * users: [] 需要被推薦的使用者\n",
        "    * k: int 每個使用者需要推薦的商品數\n",
        "    * recommendations: dict\n",
        "      {\n",
        "          使用者一： [推薦商品一, 推薦商品二, ...],\n",
        "          使用者二： [...], ...\n",
        "      }\n",
        "    '''\n",
        "    recommendations = {}\n",
        "\n",
        "    training_data = training_data[(training_data['DATE'] >= '2018-06-01') \\\n",
        "                                  & (training_data['DATE'] < '2018-09-01')]\n",
        "\n",
        "    within3month_top10 = training_data.groupby('asin').count().sort_values('overall',ascending=False).head(10).index.tolist()\n",
        "\n",
        "    recommendations = {user: within3month_top10 for user in users}\n",
        "    return recommendations"
      ],
      "metadata": {
        "id": "2pqsdXqTZr3j"
      },
      "id": "2pqsdXqTZr3j",
      "execution_count": 198,
      "outputs": []
    },
    {
      "cell_type": "code",
      "source": [
        "ratings_by_user = recommender(ratings_trainings, users)"
      ],
      "metadata": {
        "id": "9jFFrUhja5du"
      },
      "id": "9jFFrUhja5du",
      "execution_count": 199,
      "outputs": []
    },
    {
      "cell_type": "markdown",
      "metadata": {
        "id": "0qgv8AexEeZ8"
      },
      "source": [
        "## 結果評估"
      ],
      "id": "0qgv8AexEeZ8"
    },
    {
      "cell_type": "code",
      "execution_count": 200,
      "metadata": {
        "colab": {
          "base_uri": "https://localhost:8080/"
        },
        "id": "gvnLx7rLEeZ8",
        "outputId": "8f57fe7b-0d44-4289-c309-01993eb85d4b"
      },
      "outputs": [
        {
          "output_type": "execute_result",
          "data": {
            "text/plain": [
              "0.13389830508474576"
            ]
          },
          "metadata": {},
          "execution_count": 200
        }
      ],
      "source": [
        "def evaluate(ratings_testings_by_user={}, ratings_by_user={}, method=None):\n",
        "    '''\n",
        "    * ratings_testings_by_user: dict 真實被購買的商品資料（2018-09-01 以後資料）\n",
        "    * ratings_by_user: dict 利用訓練資料學習的推薦商品\n",
        "    * method: str\n",
        "    * score: float\n",
        "    '''\n",
        "    total = 0\n",
        "    for d in ratings_testings_by_user:\n",
        "        if d in ratings_by_user:\n",
        "            total += len(set(ratings_by_user[d]) & set(ratings_testings_by_user[d]))\n",
        "\n",
        "    score = total / len(ratings_testings)\n",
        "    return score\n",
        "\n",
        "evaluate(ratings_testings_by_user, ratings_by_user)"
      ],
      "id": "gvnLx7rLEeZ8"
    },
    {
      "cell_type": "markdown",
      "source": [
        "# 測試"
      ],
      "metadata": {
        "id": "jwlmCk_fcNGC"
      },
      "id": "jwlmCk_fcNGC"
    },
    {
      "cell_type": "code",
      "source": [
        "from random import sample"
      ],
      "metadata": {
        "id": "E23qRrl-KZzD"
      },
      "id": "E23qRrl-KZzD",
      "execution_count": 193,
      "outputs": []
    },
    {
      "cell_type": "code",
      "execution_count": null,
      "metadata": {
        "id": "2IXBXE-BEeZ7"
      },
      "outputs": [],
      "source": [
        "def recommender(training_data, users=[], k=10):\n",
        "    '''\n",
        "    * training_data: dataframe 輸入的訓練資料集（2018-09-01 以前資料）\n",
        "    * users: [] 需要被推薦的使用者\n",
        "    * k: int 每個使用者需要推薦的商品數\n",
        "    * recommendations: dict\n",
        "      {\n",
        "          使用者一： [推薦商品一, 推薦商品二, ...],\n",
        "          使用者二： [...], ...\n",
        "      }\n",
        "    '''\n",
        "    recommendations = {}\n",
        "\n",
        "    ratings_trainings = training_data\n",
        "    #排除熱銷商品\n",
        "    new_list = []\n",
        "    for i in set(ratings_trainings['asin']):\n",
        "      if i not in head_asin:\n",
        "        new_list.append(i)\n",
        "    #推薦使用者最常使用的類別asin\n",
        "    user_category_max\n",
        "\n",
        "\n",
        "    recommendations = {user: sample(new_list,k) for user in users}\n",
        "    return recommendations"
      ],
      "id": "2IXBXE-BEeZ7"
    }
  ],
  "metadata": {
    "kernelspec": {
      "display_name": "Python 3",
      "language": "python",
      "name": "python3"
    },
    "language_info": {
      "codemirror_mode": {
        "name": "ipython",
        "version": 3
      },
      "file_extension": ".py",
      "mimetype": "text/x-python",
      "name": "python",
      "nbconvert_exporter": "python",
      "pygments_lexer": "ipython3",
      "version": "3.6.5"
    },
    "colab": {
      "name": "sample.ipynb",
      "provenance": []
    }
  },
  "nbformat": 4,
  "nbformat_minor": 5
}