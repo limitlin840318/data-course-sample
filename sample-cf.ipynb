{
  "cells": [
    {
      "cell_type": "markdown",
      "metadata": {
        "id": "view-in-github",
        "colab_type": "text"
      },
      "source": [
        "<a href=\"https://colab.research.google.com/github/limitlin840318/data-course-sample/blob/main/sample-cf.ipynb\" target=\"_parent\"><img src=\"https://colab.research.google.com/assets/colab-badge.svg\" alt=\"Open In Colab\"/></a>"
      ]
    },
    {
      "cell_type": "markdown",
      "metadata": {
        "id": "MZclbxGREeZx"
      },
      "source": [
        "## 基礎建設"
      ],
      "id": "MZclbxGREeZx"
    },
    {
      "cell_type": "code",
      "execution_count": 1,
      "metadata": {
        "scrolled": true,
        "id": "oTfJxIZ7EeZz"
      },
      "outputs": [],
      "source": [
        "import pandas as pd\n",
        "import gzip, json\n",
        "\n",
        "def parse(path):\n",
        "    g = gzip.open(path, 'rb')\n",
        "    for l in g:\n",
        "        yield json.loads(l)\n",
        "\n",
        "def getDF(path):\n",
        "    i = 0\n",
        "    df = {}\n",
        "    for d in parse(path):\n",
        "        df[i] = d\n",
        "        i += 1\n",
        "    return pd.DataFrame.from_dict(df, orient='index')"
      ],
      "id": "oTfJxIZ7EeZz"
    },
    {
      "cell_type": "code",
      "source": [
        "import pandas as pd\n",
        "import numpy as np\n",
        "import warnings\n",
        "warnings.filterwarnings(\"ignore\")\n",
        "from os.path import exists\n",
        "from sklearn.feature_extraction.text import CountVectorizer, TfidfVectorizer\n",
        "from sklearn.metrics.pairwise import cosine_similarity\n",
        "\n",
        "import matplotlib.pyplot as plt\n",
        "import seaborn as sns\n",
        "import re\n",
        "import datetime\n",
        "sns.set_style(\"whitegrid\")"
      ],
      "metadata": {
        "id": "UcIjyRpzIc2T"
      },
      "id": "UcIjyRpzIc2T",
      "execution_count": 2,
      "outputs": []
    },
    {
      "cell_type": "code",
      "source": [
        "import nltk\n",
        "nltk.download('stopwords')\n",
        "nltk.download('punkt')\n",
        "stop_words = set(nltk.corpus.stopwords.words('english'))\n",
        "def content_filter(text):\n",
        "    # stopwords = nltk.corpus.stopwords.words('english')\n",
        "    content = [w for w in text if (w.lower() not in stop_words) & (w.isalnum()) ]\n",
        "    return content"
      ],
      "metadata": {
        "id": "AGQcxRuZiNYr",
        "colab": {
          "base_uri": "https://localhost:8080/"
        },
        "outputId": "ad5774a7-fde1-4662-9032-d8490e337c01"
      },
      "id": "AGQcxRuZiNYr",
      "execution_count": 3,
      "outputs": [
        {
          "output_type": "stream",
          "name": "stdout",
          "text": [
            "[nltk_data] Downloading package stopwords to /root/nltk_data...\n",
            "[nltk_data]   Unzipping corpora/stopwords.zip.\n",
            "[nltk_data] Downloading package punkt to /root/nltk_data...\n",
            "[nltk_data]   Unzipping tokenizers/punkt.zip.\n"
          ]
        }
      ]
    },
    {
      "cell_type": "markdown",
      "metadata": {
        "id": "S3FRKjMjEeZ1"
      },
      "source": [
        "## 載入資料"
      ],
      "id": "S3FRKjMjEeZ1"
    },
    {
      "cell_type": "code",
      "execution_count": 4,
      "metadata": {
        "colab": {
          "base_uri": "https://localhost:8080/"
        },
        "id": "hfNZAOuSEeZ2",
        "outputId": "2eed95c3-b39e-4c53-93d4-a5952cfa358c"
      },
      "outputs": [
        {
          "output_type": "stream",
          "name": "stdout",
          "text": [
            "--2022-01-08 13:14:41--  http://deepyeti.ucsd.edu/jianmo/amazon/categoryFilesSmall/All_Beauty.csv\n",
            "Resolving deepyeti.ucsd.edu (deepyeti.ucsd.edu)... 169.228.63.50\n",
            "Connecting to deepyeti.ucsd.edu (deepyeti.ucsd.edu)|169.228.63.50|:80... connected.\n",
            "HTTP request sent, awaiting response... 200 OK\n",
            "Length: 15499476 (15M) [application/octet-stream]\n",
            "Saving to: ‘All_Beauty.csv’\n",
            "\n",
            "All_Beauty.csv      100%[===================>]  14.78M  42.9MB/s    in 0.3s    \n",
            "\n",
            "2022-01-08 13:14:41 (42.9 MB/s) - ‘All_Beauty.csv’ saved [15499476/15499476]\n",
            "\n",
            "--2022-01-08 13:14:41--  http://deepyeti.ucsd.edu/jianmo/amazon/metaFiles2/meta_All_Beauty.json.gz\n",
            "Resolving deepyeti.ucsd.edu (deepyeti.ucsd.edu)... 169.228.63.50\n",
            "Connecting to deepyeti.ucsd.edu (deepyeti.ucsd.edu)|169.228.63.50|:80... connected.\n",
            "HTTP request sent, awaiting response... 200 OK\n",
            "Length: 10329961 (9.9M) [application/octet-stream]\n",
            "Saving to: ‘meta_All_Beauty.json.gz’\n",
            "\n",
            "meta_All_Beauty.jso 100%[===================>]   9.85M  33.1MB/s    in 0.3s    \n",
            "\n",
            "2022-01-08 13:14:42 (33.1 MB/s) - ‘meta_All_Beauty.json.gz’ saved [10329961/10329961]\n",
            "\n"
          ]
        }
      ],
      "source": [
        "!wget http://deepyeti.ucsd.edu/jianmo/amazon/categoryFilesSmall/All_Beauty.csv\n",
        "!wget http://deepyeti.ucsd.edu/jianmo/amazon/metaFiles2/meta_All_Beauty.json.gz"
      ],
      "id": "hfNZAOuSEeZ2"
    },
    {
      "cell_type": "code",
      "execution_count": 5,
      "metadata": {
        "id": "FC58K8_dEeZ3"
      },
      "outputs": [],
      "source": [
        "#商品的基本資訊 metadata,購買商品的紀錄 ratings\n",
        "metadata = getDF('/content/meta_All_Beauty.json.gz')\n",
        "ratings = pd.read_csv('/content/All_Beauty.csv', names=['asin', 'reviewerID', 'overall', 'unixReviewTime'], header=None)"
      ],
      "id": "FC58K8_dEeZ3"
    },
    {
      "cell_type": "markdown",
      "metadata": {
        "id": "5QRC8P4CEeZ5"
      },
      "source": [
        "## 資料整理"
      ],
      "id": "5QRC8P4CEeZ5"
    },
    {
      "cell_type": "markdown",
      "source": [
        "Step1 : Clean data"
      ],
      "metadata": {
        "id": "qhIQea_-NNJc"
      },
      "id": "qhIQea_-NNJc"
    },
    {
      "cell_type": "markdown",
      "source": [
        "*   Convert time format"
      ],
      "metadata": {
        "id": "8YLSb4IfJt_Y"
      },
      "id": "8YLSb4IfJt_Y"
    },
    {
      "cell_type": "code",
      "execution_count": 6,
      "metadata": {
        "id": "xLc1tIvBEeZ6"
      },
      "outputs": [],
      "source": [
        "ratings['DATE'] = pd.to_datetime(ratings['unixReviewTime'], unit='s')"
      ],
      "id": "xLc1tIvBEeZ6"
    },
    {
      "cell_type": "markdown",
      "source": [
        "*   Dropout the duplicated rows\n",
        "*   Parsing the `rank` column for generating `rank` and `categories`"
      ],
      "metadata": {
        "id": "GqUG2iVdJykR"
      },
      "id": "GqUG2iVdJykR"
    },
    {
      "cell_type": "code",
      "source": [
        "# Drop duplicates rows\n",
        "metadata_clean = metadata.loc[metadata.astype(str).drop_duplicates().index]"
      ],
      "metadata": {
        "id": "DzWE59zBZiVa"
      },
      "id": "DzWE59zBZiVa",
      "execution_count": 7,
      "outputs": []
    },
    {
      "cell_type": "code",
      "source": [
        "# 商品資訊- select useful columns\n",
        "metadata_clean = metadata_clean[['asin', 'brand', 'title', 'rank','description']]"
      ],
      "metadata": {
        "id": "eCWkWeLdlIMC"
      },
      "id": "eCWkWeLdlIMC",
      "execution_count": 8,
      "outputs": []
    },
    {
      "cell_type": "code",
      "source": [
        "metadata_clean['rank'] = metadata_clean['rank'].str.replace('&amp;', '&')\n",
        "\n",
        "# 買什麼種類商品\n",
        "metadata_clean['categories'] = metadata_clean['rank'].str.split(' in ').str[1]\n",
        "metadata_clean['categories'] = metadata_clean['categories'].str[:-2]\n",
        "\n",
        "# 商品排名，轉換型別\n",
        "metadata_clean['rank'] = metadata_clean['rank'].str.split(expand = True)[0].str.replace(',', '')\n",
        "metadata_clean['rank'] = pd.to_numeric(metadata_clean['rank'])"
      ],
      "metadata": {
        "id": "Nj5QRZE5Z6mj"
      },
      "id": "Nj5QRZE5Z6mj",
      "execution_count": 9,
      "outputs": []
    },
    {
      "cell_type": "code",
      "source": [
        "metadata_clean['categories'].unique()"
      ],
      "metadata": {
        "colab": {
          "base_uri": "https://localhost:8080/"
        },
        "id": "l-JR3HORuHO4",
        "outputId": "cbef297b-865d-497f-c9bd-a408c820fd55"
      },
      "id": "l-JR3HORuHO4",
      "execution_count": 10,
      "outputs": [
        {
          "output_type": "execute_result",
          "data": {
            "text/plain": [
              "array(['Beauty & Personal Care', nan, 'Grocery & Gourmet Food',\n",
              "       'Health & Household', 'Sports & Outdoors', 'Toys & Games', 'Baby',\n",
              "       'Clothing, Shoes & Jewelry', 'Home & Kitchen', 'Automotive',\n",
              "       'Tools & Home Improvement'], dtype=object)"
            ]
          },
          "metadata": {},
          "execution_count": 10
        }
      ]
    },
    {
      "cell_type": "markdown",
      "source": [
        "\n",
        "*   僅使用（beauty）的類別資料\n",
        "\n"
      ],
      "metadata": {
        "id": "AyMroSiAjGcD"
      },
      "id": "AyMroSiAjGcD"
    },
    {
      "cell_type": "code",
      "source": [
        "metadata_clean = metadata_clean[metadata_clean['categories']=='Beauty & Personal Care']"
      ],
      "metadata": {
        "id": "2d0ieQQJi2sm"
      },
      "id": "2d0ieQQJi2sm",
      "execution_count": 11,
      "outputs": []
    },
    {
      "cell_type": "code",
      "source": [
        "metadata_clean['title'] = metadata_clean['title'].str.replace('&amp;', '&')"
      ],
      "metadata": {
        "id": "tEXT-D3VHh45"
      },
      "id": "tEXT-D3VHh45",
      "execution_count": 12,
      "outputs": []
    },
    {
      "cell_type": "code",
      "source": [
        "metadata_clean['description'] = metadata_clean['description'].str[0].replace(np.nan, '')"
      ],
      "metadata": {
        "id": "DQ1aO_iNv8FJ"
      },
      "id": "DQ1aO_iNv8FJ",
      "execution_count": 13,
      "outputs": []
    },
    {
      "cell_type": "markdown",
      "source": [
        "*   Combine `description` and `title` to create new `desc`\n",
        "*   Made `desc` string lowercase"
      ],
      "metadata": {
        "id": "p1aPMSUpLPEX"
      },
      "id": "p1aPMSUpLPEX"
    },
    {
      "cell_type": "code",
      "source": [
        "metadata_clean['desc'] = metadata_clean[\"title\"] +' '+ metadata_clean[\"description\"]\n",
        "metadata_clean['desc'] = metadata_clean['desc'].str.lower()"
      ],
      "metadata": {
        "id": "UMVY1-CPuLRk"
      },
      "id": "UMVY1-CPuLRk",
      "execution_count": 14,
      "outputs": []
    },
    {
      "cell_type": "markdown",
      "source": [
        "*   Create new attribute `asin_rating` : asin mean average rating\n",
        "\n"
      ],
      "metadata": {
        "id": "OGeP7ZyUMqB5"
      },
      "id": "OGeP7ZyUMqB5"
    },
    {
      "cell_type": "code",
      "source": [
        "#asin mean score\n",
        "asin_rating = ratings.groupby('asin')[['overall']].mean().reset_index().rename(columns={\"asin\": \"asin\", \"overall\": \"rating_mean\"})"
      ],
      "metadata": {
        "id": "GH6yYN37sq_0"
      },
      "id": "GH6yYN37sq_0",
      "execution_count": 15,
      "outputs": []
    },
    {
      "cell_type": "code",
      "source": [
        "metadata_clean = pd.merge(metadata_clean,asin_rating , on=\"asin\", how=\"left\")"
      ],
      "metadata": {
        "id": "c5FMNxSYsr7U"
      },
      "id": "c5FMNxSYsr7U",
      "execution_count": 16,
      "outputs": []
    },
    {
      "cell_type": "code",
      "source": [
        "metadata_clean.head(1)"
      ],
      "metadata": {
        "colab": {
          "base_uri": "https://localhost:8080/",
          "height": 142
        },
        "id": "l_Q1zwFgUDc_",
        "outputId": "f8fba81e-f87b-4be6-8c5b-013d93c9381b"
      },
      "id": "l_Q1zwFgUDc_",
      "execution_count": 17,
      "outputs": [
        {
          "output_type": "execute_result",
          "data": {
            "text/html": [
              "\n",
              "  <div id=\"df-2ea9066d-1947-43a6-97e9-d5f3e283d77a\">\n",
              "    <div class=\"colab-df-container\">\n",
              "      <div>\n",
              "<style scoped>\n",
              "    .dataframe tbody tr th:only-of-type {\n",
              "        vertical-align: middle;\n",
              "    }\n",
              "\n",
              "    .dataframe tbody tr th {\n",
              "        vertical-align: top;\n",
              "    }\n",
              "\n",
              "    .dataframe thead th {\n",
              "        text-align: right;\n",
              "    }\n",
              "</style>\n",
              "<table border=\"1\" class=\"dataframe\">\n",
              "  <thead>\n",
              "    <tr style=\"text-align: right;\">\n",
              "      <th></th>\n",
              "      <th>asin</th>\n",
              "      <th>brand</th>\n",
              "      <th>title</th>\n",
              "      <th>rank</th>\n",
              "      <th>description</th>\n",
              "      <th>categories</th>\n",
              "      <th>desc</th>\n",
              "      <th>rating_mean</th>\n",
              "    </tr>\n",
              "  </thead>\n",
              "  <tbody>\n",
              "    <tr>\n",
              "      <th>0</th>\n",
              "      <td>6546546450</td>\n",
              "      <td>idea village</td>\n",
              "      <td>Loud 'N Clear&amp;trade; Personal Sound Amplifier</td>\n",
              "      <td>2938573.0</td>\n",
              "      <td>Loud 'N Clear Personal Sound Amplifier allows ...</td>\n",
              "      <td>Beauty &amp; Personal Care</td>\n",
              "      <td>loud 'n clear&amp;trade; personal sound amplifier ...</td>\n",
              "      <td>2.5</td>\n",
              "    </tr>\n",
              "  </tbody>\n",
              "</table>\n",
              "</div>\n",
              "      <button class=\"colab-df-convert\" onclick=\"convertToInteractive('df-2ea9066d-1947-43a6-97e9-d5f3e283d77a')\"\n",
              "              title=\"Convert this dataframe to an interactive table.\"\n",
              "              style=\"display:none;\">\n",
              "        \n",
              "  <svg xmlns=\"http://www.w3.org/2000/svg\" height=\"24px\"viewBox=\"0 0 24 24\"\n",
              "       width=\"24px\">\n",
              "    <path d=\"M0 0h24v24H0V0z\" fill=\"none\"/>\n",
              "    <path d=\"M18.56 5.44l.94 2.06.94-2.06 2.06-.94-2.06-.94-.94-2.06-.94 2.06-2.06.94zm-11 1L8.5 8.5l.94-2.06 2.06-.94-2.06-.94L8.5 2.5l-.94 2.06-2.06.94zm10 10l.94 2.06.94-2.06 2.06-.94-2.06-.94-.94-2.06-.94 2.06-2.06.94z\"/><path d=\"M17.41 7.96l-1.37-1.37c-.4-.4-.92-.59-1.43-.59-.52 0-1.04.2-1.43.59L10.3 9.45l-7.72 7.72c-.78.78-.78 2.05 0 2.83L4 21.41c.39.39.9.59 1.41.59.51 0 1.02-.2 1.41-.59l7.78-7.78 2.81-2.81c.8-.78.8-2.07 0-2.86zM5.41 20L4 18.59l7.72-7.72 1.47 1.35L5.41 20z\"/>\n",
              "  </svg>\n",
              "      </button>\n",
              "      \n",
              "  <style>\n",
              "    .colab-df-container {\n",
              "      display:flex;\n",
              "      flex-wrap:wrap;\n",
              "      gap: 12px;\n",
              "    }\n",
              "\n",
              "    .colab-df-convert {\n",
              "      background-color: #E8F0FE;\n",
              "      border: none;\n",
              "      border-radius: 50%;\n",
              "      cursor: pointer;\n",
              "      display: none;\n",
              "      fill: #1967D2;\n",
              "      height: 32px;\n",
              "      padding: 0 0 0 0;\n",
              "      width: 32px;\n",
              "    }\n",
              "\n",
              "    .colab-df-convert:hover {\n",
              "      background-color: #E2EBFA;\n",
              "      box-shadow: 0px 1px 2px rgba(60, 64, 67, 0.3), 0px 1px 3px 1px rgba(60, 64, 67, 0.15);\n",
              "      fill: #174EA6;\n",
              "    }\n",
              "\n",
              "    [theme=dark] .colab-df-convert {\n",
              "      background-color: #3B4455;\n",
              "      fill: #D2E3FC;\n",
              "    }\n",
              "\n",
              "    [theme=dark] .colab-df-convert:hover {\n",
              "      background-color: #434B5C;\n",
              "      box-shadow: 0px 1px 3px 1px rgba(0, 0, 0, 0.15);\n",
              "      filter: drop-shadow(0px 1px 2px rgba(0, 0, 0, 0.3));\n",
              "      fill: #FFFFFF;\n",
              "    }\n",
              "  </style>\n",
              "\n",
              "      <script>\n",
              "        const buttonEl =\n",
              "          document.querySelector('#df-2ea9066d-1947-43a6-97e9-d5f3e283d77a button.colab-df-convert');\n",
              "        buttonEl.style.display =\n",
              "          google.colab.kernel.accessAllowed ? 'block' : 'none';\n",
              "\n",
              "        async function convertToInteractive(key) {\n",
              "          const element = document.querySelector('#df-2ea9066d-1947-43a6-97e9-d5f3e283d77a');\n",
              "          const dataTable =\n",
              "            await google.colab.kernel.invokeFunction('convertToInteractive',\n",
              "                                                     [key], {});\n",
              "          if (!dataTable) return;\n",
              "\n",
              "          const docLinkHtml = 'Like what you see? Visit the ' +\n",
              "            '<a target=\"_blank\" href=https://colab.research.google.com/notebooks/data_table.ipynb>data table notebook</a>'\n",
              "            + ' to learn more about interactive tables.';\n",
              "          element.innerHTML = '';\n",
              "          dataTable['output_type'] = 'display_data';\n",
              "          await google.colab.output.renderOutput(dataTable, element);\n",
              "          const docLink = document.createElement('div');\n",
              "          docLink.innerHTML = docLinkHtml;\n",
              "          element.appendChild(docLink);\n",
              "        }\n",
              "      </script>\n",
              "    </div>\n",
              "  </div>\n",
              "  "
            ],
            "text/plain": [
              "         asin  ... rating_mean\n",
              "0  6546546450  ...         2.5\n",
              "\n",
              "[1 rows x 8 columns]"
            ]
          },
          "metadata": {},
          "execution_count": 17
        }
      ]
    },
    {
      "cell_type": "code",
      "source": [
        "metadata_clean = metadata_clean[['asin', 'brand', 'rank','categories','desc','rating_mean']]"
      ],
      "metadata": {
        "id": "5GKiR4BvSos9"
      },
      "id": "5GKiR4BvSos9",
      "execution_count": 18,
      "outputs": []
    },
    {
      "cell_type": "markdown",
      "source": [
        "# 資料切分"
      ],
      "metadata": {
        "id": "kCatoSpTiV4V"
      },
      "id": "kCatoSpTiV4V"
    },
    {
      "cell_type": "code",
      "execution_count": 19,
      "metadata": {
        "id": "-8BEzAasEeZ6"
      },
      "outputs": [],
      "source": [
        "#依上次結果使用近三個月訓練資料\n",
        "ratings_trainings = ratings[\n",
        "    (ratings['DATE'] < '2018-09-01')\n",
        "    ]\n",
        "\n",
        "ratings_testings = ratings[\n",
        "    (ratings['DATE'] >= '2018-09-01') & \n",
        "    (ratings['DATE'] <= '2018-09-30')\n",
        "]"
      ],
      "id": "-8BEzAasEeZ6"
    },
    {
      "cell_type": "code",
      "source": [
        "ratings_testings_by_user = ratings_testings.groupby('reviewerID').agg(list).reset_index()[['reviewerID', 'asin']].to_dict('records')\n",
        "ratings_testings_by_user = { rating['reviewerID']: rating['asin'] for rating in ratings_testings_by_user }\n",
        "users = list(ratings_testings_by_user.keys())"
      ],
      "metadata": {
        "id": "UZtRFWtMJALR"
      },
      "id": "UZtRFWtMJALR",
      "execution_count": 20,
      "outputs": []
    },
    {
      "cell_type": "markdown",
      "source": [
        "# CF-user-based recommendation"
      ],
      "metadata": {
        "id": "FONCO8SO3Bug"
      },
      "id": "FONCO8SO3Bug"
    },
    {
      "cell_type": "markdown",
      "source": [
        "產生推薦"
      ],
      "metadata": {
        "id": "hGRB_4Ic56mA"
      },
      "id": "hGRB_4Ic56mA"
    },
    {
      "cell_type": "code",
      "source": [
        "import pandas as pd\n",
        "from itertools import combinations\n",
        "from collections import defaultdict\n",
        "\n",
        "# header: user_id,item_id,rating,timestamp\n",
        "\n",
        "def recommender(training_data, users=[], k=10):\n",
        "\n",
        "    # loading data from dataframe\n",
        "    # user_to_items dict:\n",
        "    # {\n",
        "    #   'user': {\n",
        "    #       'item': ratings...\n",
        "    #   }...\n",
        "    # }\n",
        "    user_to_items = defaultdict(dict)\n",
        "    for _, row in training_data.iterrows():\n",
        "        row = dict(row)\n",
        "        user = row['reviewerID']\n",
        "        item = row['asin']\n",
        "        rating = float(row['overall'])\n",
        "\n",
        "        user_to_items[user][item] = rating\n",
        "\n",
        "    print(\"total users before filtering: \", len(user_to_items))\n",
        "\n",
        "    # remove obscure user to decrease data size\n",
        "    # filtering params\n",
        "    remove_obscure_user = True\n",
        "    user_rating_threshold = 3\n",
        "    all_users = list(user_to_items.keys())\n",
        "    for user in all_users:\n",
        "        ratings = user_to_items[user]\n",
        "        if remove_obscure_user and len(ratings) < user_rating_threshold:\n",
        "            del user_to_items[user]\n",
        "\n",
        "    print(\"total users  after filtering: \", len(user_to_items))\n",
        "\n",
        "    # generate item to user mapping dict\n",
        "    # {\n",
        "    #   'item': {\n",
        "    #       'user': ratings...\n",
        "    #   }...\n",
        "    # }\n",
        "    item_to_users = defaultdict(dict)\n",
        "    for user, items in user_to_items.items():\n",
        "        for item, rating in items.items():\n",
        "            item_to_users[item][user] = rating\n",
        "\n",
        "    # prepare data of computing user similarity \n",
        "    init_sim = lambda: [0 for _ in range(3)]\n",
        "    factory = lambda: defaultdict(init_sim)\n",
        "    pre_user_similarity = defaultdict(factory)\n",
        "    n = len(item_to_users)\n",
        "    index = 0\n",
        "    for item, user_ratings in item_to_users.items():\n",
        "        if len(user_ratings) > 1:\n",
        "            # print(f\"item: {item} have been rated by {len(user_ratings)} users progress: {index}/{n}\")\n",
        "            for user1, user2 in combinations(user_ratings.keys(), 2):\n",
        "                xy = user_ratings[user1] * user_ratings[user2]\n",
        "                xx = user_ratings[user1] ** 2\n",
        "                yy = user_ratings[user2] ** 2\n",
        "                pre_user_similarity[user1][user2][0] += xy\n",
        "                pre_user_similarity[user1][user2][1] += xx\n",
        "                pre_user_similarity[user1][user2][2] += yy\n",
        "\n",
        "                pre_user_similarity[user2][user1][0] += xy\n",
        "                pre_user_similarity[user2][user1][1] += xx\n",
        "                pre_user_similarity[user2][user1][2] += yy\n",
        "        index += 1\n",
        "\n",
        "    user_similarity = {}\n",
        "    for src_user in pre_user_similarity:\n",
        "        user_similarity_order = []\n",
        "        for dst_user, val in pre_user_similarity[src_user].items():\n",
        "            xy = val[0]\n",
        "            xx = val[1]\n",
        "            yy = val[2]\n",
        "            div = ((xx*yy) ** 0.5)\n",
        "            if div == 0:\n",
        "                continue\n",
        "            similarity = xy / div\n",
        "            if similarity < 0:\n",
        "                continue\n",
        "            for i, s in enumerate(user_similarity_order):\n",
        "                target_similarity = s[1]\n",
        "                if target_similarity < similarity:\n",
        "                    user_similarity_order.insert(i, (dst_user, similarity))\n",
        "                    break\n",
        "            else:\n",
        "                user_similarity_order.append((dst_user, similarity))\n",
        "        user_similarity[src_user] = user_similarity_order\n",
        "\n",
        "    recommendation = {}\n",
        "    for user in users:\n",
        "        if user in user_similarity:\n",
        "            sim_users = user_similarity[user]\n",
        "            recommended_items = []\n",
        "            recommended_items_set = set()\n",
        "            user_have_rated = set(user_to_items[user])\n",
        "            stop_recommend = False\n",
        "            for sim_user, _ in sim_users:\n",
        "                items_from_sim_user = sorted(list(user_to_items[sim_user].items()), key=lambda item: item[1])\n",
        "                for item, _ in items_from_sim_user:\n",
        "                    if item not in user_have_rated and item not in recommended_items_set:\n",
        "                        recommended_items.append(item)\n",
        "                        recommended_items_set.add(item)\n",
        "                    if len(recommended_items) >= k:\n",
        "                        stop_recommend = True\n",
        "                        break\n",
        "                if stop_recommend:\n",
        "                    break\n",
        "            recommendation[user] = recommended_items\n",
        "        else:\n",
        "            recommendation[user] = []\n",
        "    return recommendation\n",
        "\n",
        "ratings_by_user_cf_userbased = recommender(ratings_trainings, users)\n",
        "#ratings_by_user_cf_userbased"
      ],
      "metadata": {
        "colab": {
          "base_uri": "https://localhost:8080/"
        },
        "id": "XqaBzdDl58Tp",
        "outputId": "c329a504-fe0a-4fbf-9dad-32eefeea1476"
      },
      "id": "XqaBzdDl58Tp",
      "execution_count": 21,
      "outputs": [
        {
          "output_type": "stream",
          "name": "stdout",
          "text": [
            "total users before filtering:  323489\n",
            "total users  after filtering:  4793\n"
          ]
        }
      ]
    },
    {
      "cell_type": "markdown",
      "source": [
        "結果評估"
      ],
      "metadata": {
        "id": "khY8mdWV-vSv"
      },
      "id": "khY8mdWV-vSv"
    },
    {
      "cell_type": "code",
      "source": [
        "def evaluate(ratings_testings_by_user={}, ratings_by_user={}, method=None):\n",
        "    '''\n",
        "    * ratings_testings_by_user: dict 真實被購買的商品資料（2018-09-01 以後資料）\n",
        "    * ratings_by_user: dict 利用訓練資料學習的推薦商品\n",
        "    * method: str\n",
        "    * score: float\n",
        "    '''\n",
        "    total = 0\n",
        "    for d in ratings_testings_by_user:\n",
        "        if d in ratings_by_user:\n",
        "            total += len(set(ratings_by_user[d]) & set(ratings_testings_by_user[d]))\n",
        "\n",
        "    score = total / len(ratings_testings)\n",
        "    return score\n",
        "\n",
        "evaluate(ratings_testings_by_user, ratings_by_user_cf_userbased)"
      ],
      "metadata": {
        "colab": {
          "base_uri": "https://localhost:8080/"
        },
        "id": "JgP2237_8xGn",
        "outputId": "2e109ed3-f147-410e-93b6-56741cbb9975"
      },
      "id": "JgP2237_8xGn",
      "execution_count": 22,
      "outputs": [
        {
          "output_type": "execute_result",
          "data": {
            "text/plain": [
              "0.0"
            ]
          },
          "metadata": {},
          "execution_count": 22
        }
      ]
    },
    {
      "cell_type": "markdown",
      "source": [
        "# CF-Item-Based recommendation"
      ],
      "metadata": {
        "id": "YRw3PwxxjhiH"
      },
      "id": "YRw3PwxxjhiH"
    },
    {
      "cell_type": "markdown",
      "source": [
        "產生推薦"
      ],
      "metadata": {
        "id": "4UY_cxkBlS2K"
      },
      "id": "4UY_cxkBlS2K"
    },
    {
      "cell_type": "code",
      "source": [
        "import pandas as pd\n",
        "from itertools import combinations\n",
        "from collections import defaultdict\n",
        "\n",
        "def recommender(training_data, users=[], k=10):\n",
        "\n",
        "    # loading data from dataframe\n",
        "    # item_to_users dict:\n",
        "    # {\n",
        "    #   'item': {\n",
        "    #       'user': ratings...\n",
        "    #   }...\n",
        "    # }\n",
        "    item_to_users = defaultdict(dict)\n",
        "    for _, row in training_data.iterrows():\n",
        "        row = dict(row)\n",
        "        user = row['reviewerID']\n",
        "        item = row['asin']\n",
        "        rating = float(row['overall'])\n",
        "        item_to_users[item][user] = rating\n",
        "\n",
        "    print(\"data converted\")\n",
        "\n",
        "    user_to_items = defaultdict(dict)\n",
        "    for item, rating_users in item_to_users.items():\n",
        "        for user, rating in rating_users.items():\n",
        "            user_to_items[user][item] = rating\n",
        "\n",
        "    print(\"data inverted\")\n",
        "\n",
        "    init_sim = lambda: [0, 0, 0]\n",
        "    factory = lambda: defaultdict(init_sim)\n",
        "    pre_item_similarity = defaultdict(factory)\n",
        "    for user, items in user_to_items.items():\n",
        "        if len(items) > 1:\n",
        "            for i1, i2 in combinations(items.keys(), 2):\n",
        "                xy = items[i1] * items[i2]\n",
        "                xx = items[i1] ** 2\n",
        "                yy = items[i2] ** 2\n",
        "                pre_item_similarity[i1][i2][0] += xy\n",
        "                pre_item_similarity[i1][i2][1] += xx\n",
        "                pre_item_similarity[i1][i2][2] += yy\n",
        "\n",
        "                pre_item_similarity[i2][i1][0] += xy\n",
        "                pre_item_similarity[i2][i1][1] += xx\n",
        "                pre_item_similarity[i2][i1][2] += yy\n",
        "\n",
        "    print(\"sim data prepared\")\n",
        "\n",
        "    item_similarity = {}\n",
        "    for src_item in pre_item_similarity:\n",
        "        item_similarity_order = []\n",
        "        for dst_item, val in pre_item_similarity[src_item].items():\n",
        "            xy = val[0]\n",
        "            xx = val[1]\n",
        "            yy = val[2]\n",
        "            div = ((xx*yy) ** 0.5)\n",
        "            if div == 0:\n",
        "                continue\n",
        "            similarity = xy / div\n",
        "            if similarity < 0:\n",
        "                continue\n",
        "            for i, s in enumerate(item_similarity_order):\n",
        "                target_similarity = s[1]\n",
        "                if target_similarity < similarity:\n",
        "                    item_similarity_order.insert(i, (dst_item, similarity))\n",
        "                    break\n",
        "            else:\n",
        "                item_similarity_order.append((dst_item, similarity))\n",
        "        item_similarity[src_item] = item_similarity_order\n",
        "\n",
        "    print(f\"get {k} recommendation items for for user: {users}\")\n",
        "\n",
        "    recommendation = {}\n",
        "    for user in users:\n",
        "        items = []\n",
        "        items_set = set()\n",
        "        stop = False\n",
        "        user_has_rated = set(user_to_items[user])\n",
        "        for item in user_has_rated:\n",
        "            if item in item_similarity:\n",
        "                for sim_item, _ in item_similarity[item]:\n",
        "                    # skip the item user has rated\n",
        "                    if sim_item not in user_has_rated and sim_item not in items_set:\n",
        "                        items.append(sim_item)\n",
        "                        items_set.add(sim_item)\n",
        "                    if len(items) >= k:\n",
        "                        stop = True\n",
        "                        break\n",
        "                if stop:\n",
        "                    break\n",
        "        recommendation[user] = items\n",
        "    return recommendation    \n",
        "\n",
        "ratings_by_user_cf_itembased = recommender(ratings_trainings, users)\n",
        "#ratings_by_user_cf_itembased"
      ],
      "metadata": {
        "colab": {
          "base_uri": "https://localhost:8080/"
        },
        "id": "QQzvGmqelUtj",
        "outputId": "dd199db3-1751-41d8-e781-54bd8f956343"
      },
      "id": "QQzvGmqelUtj",
      "execution_count": 23,
      "outputs": [
        {
          "output_type": "stream",
          "name": "stdout",
          "text": [
            "data converted\n",
            "data inverted\n",
            "sim data prepared\n",
            "get 10 recommendation items for for user: ['A100XQFWKQ30O2', 'A103T1QOGFCSEH', 'A106UKKSJ2KXPF', 'A10A7GV4D5A11V', 'A1119JJ37ZLB8R', 'A113UOOLBSZN52', 'A12M4U7WK4ALCR', 'A12T8YTW6VWT7S', 'A1364JXGKB46MM', 'A137DALOQFKBTI', 'A13FEZ3WV7S2EY', 'A13IV4I1B0RXMG', 'A13JU88JAHN72I', 'A13K55R6VH1OOD', 'A13P7VFU075A', 'A13SWYE4QLB6NG', 'A13ZTQ0Q4ATA41', 'A142EDN04OD62U', 'A142I22FIC8MZK', 'A14834QTII5TLT', 'A14A447VPACTBC', 'A14AP6MN5XO6LB', 'A14CLF25IX25US', 'A14LYXC3HTBAHI', 'A14VUW4KZ34EOE', 'A14Y32P26G9YL', 'A157T25PBS7MX4', 'A15HZDSERD85C8', 'A15JJ8J1FGADIX', 'A15ZCL70JXXH89', 'A1617KN2IAWZ6J', 'A16E0O88262HKA', 'A16NSZ58PTVIYF', 'A16UGDXRTDLJG5', 'A16X9HR3UFQQXY', 'A16Y7V1CZCWKFV', 'A174YOBOSW9WDN', 'A1786SKRAJXH86', 'A17K2BUZ20WD2', 'A17LYRFV645L0V', 'A18LNGVXDZBTUR', 'A19503XX7GU6J2', 'A19HVHRZDYFEOP', 'A19JM38B861BO4', 'A19KGY3W1P0MHT', 'A19KJPOF3QOJ24', 'A19U5RT4Q8Q1T6', 'A1AQNQUNX8B6JT', 'A1ARU0IN6RUFFD', 'A1BB4635KSKDMV', 'A1BCC7X6KRTBG0', 'A1BPJ56BXENC7', 'A1C0RI6W65FC8B', 'A1C60LJGZVEK27', 'A1CB2SMS3TD44Z', 'A1CNSU8P68CPLT', 'A1CSDWBYUJBCJZ', 'A1CTNNVIYHO25P', 'A1CTQF97HFYOZB', 'A1D5C2H9UFZHPU', 'A1D5UVH72Z6NJ1', 'A1DAUVZRVSLLNW', 'A1DCZ9882PXLVB', 'A1DZ63D35BNT86', 'A1E0QCKB4R2X8X', 'A1E76OZZ5YUWVA', 'A1EBHZPAYMILW9', 'A1EJVNGBY5GM5I', 'A1ER0356V2DSKW', 'A1EY751AUVO5NZ', 'A1EZFX1TRHSAJX', 'A1F08GM4B97FV', 'A1F6EFMBK795DJ', 'A1FC8Y896NZP4T', 'A1FKIAKVOBNN7Y', 'A1FKUBRPLG6Y8I', 'A1G2HL4W8B3TA0', 'A1G8Z9IKJ0BD1M', 'A1GEJ55RJGD7JW', 'A1GIYGD23YIDTN', 'A1GLG2IZBZHRAJ', 'A1H1T82FPO20DN', 'A1H7JDZ9BKTKGC', 'A1HBROZPSV5KT6', 'A1HBXMUIHTAIU2', 'A1I32A4SA9W2L2', 'A1IDJ6KR8CQV9I', 'A1II0TTUUE2C7Y', 'A1ILEZFIVOU0EP', 'A1ITJ5M7I9G7FR', 'A1IWTXM1SJWHDN', 'A1J2NTTE63GNG2', 'A1JRREJ5D62LFF', 'A1KGMTEXL70WF6', 'A1KWUQZJ1Z6MN2', 'A1LXJ8XCGNBXOF', 'A1M8YMS915ZK0B', 'A1NDRR3G9SJF18', 'A1NE6K8PXW780O', 'A1NEG0FRW5FDBL', 'A1NN82RWB6PXJW', 'A1NY67EVWD6CD6', 'A1OB41VQHXZ0R8', 'A1OJ2IXX8F7Q7X', 'A1OTIUDE7LWAGT', 'A1P1OHYJOOZX5P', 'A1PFDA9SL15S4O', 'A1PKBKALGLSX0Z', 'A1PMLXHE863GR6', 'A1PR178735XC70', 'A1PXO67EUM5HJQ', 'A1QHS58JVFLF3I', 'A1QPKRHCAOQVZ5', 'A1R2TTULP0Z2BM', 'A1R8GBYBJWWWU0', 'A1RAXJN2Q4V20X', 'A1RCMCAJR2LJA4', 'A1RE2XA5HQD1D3', 'A1RMLPJ1PF8LGV', 'A1RX2ODQRQZVSI', 'A1S3NMNTSO6GW', 'A1S6OQV823B53J', 'A1SA3N793WT2LM', 'A1SA932MLERVQY', 'A1SCZBXGPJ2615', 'A1SMXRCNRO4ZQM', 'A1T1N2585E1T0D', 'A1TEKLMF4V1X2C', 'A1TF44D9KYAD60', 'A1TGP1VTM3KCTI', 'A1TK5M6EM3GS3C', 'A1TO3GV14TGF2R', 'A1TP9JHTIY468V', 'A1UAOE8KO7Q1DZ', 'A1UDCDY6ZNE83T', 'A1UUNKRU1DTZTL', 'A1V0UJQ4XGAJ3H', 'A1VBZLO2JGYU1B', 'A1VC6YCAFKV6Q', 'A1VVEX78B2TYBX', 'A1VVQ2DFL0QLXF', 'A1VYWSQ2OXLH98', 'A1WEFBEJ7OHSVZ', 'A1WOX40GUAFDKW', 'A1WSZED2O5MA5T', 'A1XBJBT6HORBLA', 'A1XHN6JF8A8W69', 'A1XWCTARAQ0679', 'A1XZJ85PKMAZP0', 'A1YALF6PWOMS6S', 'A1YEO5KEW7M2GF', 'A1YQ33635DJEG5', 'A1YSAFP6T3JZ1C', 'A1YTPCNXQ2LJ5Z', 'A1YVXZK51DEDPC', 'A1Z3GE09RDY6O7', 'A1Z6IPI0G3QIUR', 'A1ZVXL7K0XY3S6', 'A1ZXYITUZM3Q6A', 'A202BVEB76NTMK', 'A205S0BTPEFI0I', 'A20MSUD02BETH2', 'A20P2XESU3G3EC', 'A20QY357E6SAF', 'A20SJ2793OUCPW', 'A20T7NNNUHH60H', 'A21JL9NVA7KEMC', 'A21M4N08F3EU5J', 'A21NUBJVBS230S', 'A21OELUKDF2E57', 'A21XQP90LEND9R', 'A21YO11OY4KATO', 'A220EHDBIGBL30', 'A224YJVNU30DVM', 'A22A1B25VBD0YO', 'A22EWIMT2GUTTL', 'A22EZJLTPINCFS', 'A22QJRB86RF6O1', 'A2320AUCHA95U2', 'A232IJ75I4KP9C', 'A23GTKDW92ZPP2', 'A23O1B8IVSYKMO', 'A23VR3KT0TPG83', 'A24HCM5QV0ZTJ5', 'A24ZE4O3OQMSP0', 'A255E6ZWUBMEJJ', 'A258D00BRNHJ77', 'A25TLD8KIU807H', 'A26434CRUTADT5', 'A26AT96096UOEZ', 'A26RKZDM4DK8OQ', 'A274IW68565M0U', 'A286OWYO1BDT52', 'A288UAQLON8FK2', 'A28E3FNV1BYC94', 'A28GO11F387SOX', 'A28H0PFALTML0I', 'A28OZKV4ZYZX42', 'A28P7FF1TVPG1K', 'A28Q7C1FAIZGLV', 'A29834GBB4DOP1', 'A29HQ60YC1RG1P', 'A29MENRU87PET0', 'A29PZKXDCQFTYW', 'A29SD3TFGX6Q34', 'A2A0MIOWIW2SB8', 'A2A8ECI6ABJBMA', 'A2AAQWBJJTK3E1', 'A2AE0E0H463YL6', 'A2APG6OZXU4QIZ', 'A2BDB427ROEP7H', 'A2BHJO8WOGMW6E', 'A2BOSA30FCF6G8', 'A2BU6N5956T9NH', 'A2BUZ308P92OYA', 'A2C1F859F9V1SL', 'A2C8YINPNRQOAU', 'A2CDQOF7WHUYKJ', 'A2CEEE0IK3LKN1', 'A2CZVE6ORV87C5', 'A2DD6RH1AF0PLI', 'A2DFOCWUKJX3PT', 'A2E8WG5GRZGMXU', 'A2ESQAPIGR2TJF', 'A2EUQ4ESAB2N6A', 'A2EZXF5YGYTOWN', 'A2F0VQQLSF558D', 'A2F3QV40SONN60', 'A2F95NSPD4XEEU', 'A2FA2J1JT12N7J', 'A2FFUJ5D4CMJ4L', 'A2FLLYV6Z8UQ26', 'A2G1XJ25DR7PVF', 'A2G5KJ0CZE65ZD', 'A2GFPTQ4VWDX96', 'A2GJLNRQTVUNOF', 'A2GOFJ3OZZUZ3H', 'A2GV0FE30O6M67', 'A2H3W11661MWDA', 'A2H7FD5GQMJXAQ', 'A2H7VSYLKGKLLJ', 'A2HFAX39PMLIGH', 'A2I4O72AAE1T1T', 'A2I868XUY96VWA', 'A2IK039KMC8UP1', 'A2IMJV0CQMZLGC', 'A2INWR0T7A7UN5', 'A2IOBG1ERS4JP3', 'A2IRPQ7DXQ9YIN', 'A2J4WOR87ELFBH', 'A2JCBLTLYDPQLW', 'A2JEH2NKM1Z8CQ', 'A2JXZSR7R85KX4', 'A2K7XZCFYGZH0O', 'A2KO4HGLWB57LI', 'A2KVN4XKFJH0I8', 'A2LM47GK1W7RRR', 'A2LSOMD2X9KCCH', 'A2LYTBRWFQJMKM', 'A2M4YSOJZELJ6N', 'A2MAZK8XSIDXPF', 'A2MDIPJ7MS0MUJ', 'A2MGO3WV3SX7X', 'A2MLV3I5MMJ2RA', 'A2MPSHMC0U29AV', 'A2NI47L1B1RXSG', 'A2NJQZBE8TSUYO', 'A2NWTETCSLOEQN', 'A2O4DMC8M5JFHG', 'A2O823CIB99X95', 'A2OT3011J8E1ZP', 'A2OXIHJW4K9NKE', 'A2P6L9MQK99U36', 'A2PB6LYMRA7Z9V', 'A2PEJEOUE9MNA6', 'A2PIBK3EOG5TBK', 'A2PY1DBGV9FQA2', 'A2Q5UOQ4L1BOB9', 'A2QE1WIYFY0HAP', 'A2QP73U21FHJZI', 'A2QV1YJODH28QP', 'A2RAISC8UEEBK9', 'A2RDNAR2R66DKD', 'A2RXAD7UZ4VFT6', 'A2S47NK970GKD9', 'A2SMFKDH22FMA3', 'A2SOH4QHL5DZ6D', 'A2SQIQZUBEAJR3', 'A2SWEHEK2BMPM8', 'A2SYZ28NVJZ4R1', 'A2T0AMZZLASKKV', 'A2TCLY6N04N9D7', 'A2TW5FC72PI7SE', 'A2UAC8RKSPUIKH', 'A2UX00W1OX5A80', 'A2V88AD0XHE2IE', 'A2VC9R3XCFOEP1', 'A2VLCD1OWKXBW0', 'A2VTFDQ1DZN7UI', 'A2WHTNQ939BS71', 'A2WQGKM49J8UYT', 'A2WX2YLLHJDLX7', 'A2X4BZH61VJH5M', 'A2XEM0Y2PBNYK3', 'A2XFJ8CTY7VDNN', 'A2XTIQTNDTY6IA', 'A2XVM7UW32TYJ4', 'A2XY3CJ3ZCAD03', 'A2XYR0XUSOOBKN', 'A2Y1J1AKXDLR1', 'A2Y88AU2Y58W78', 'A2Z6RKQQUX4RJA', 'A2ZBZF2MUG5BMT', 'A2ZFTLMOAS9YS9', 'A2ZIIOGLNJDGAW', 'A2ZKSKEG5ADC67', 'A2ZZKY1V6M940H', 'A31LANQ03TDCXY', 'A323D529OO2E1G', 'A3254BNN69CL47', 'A327I3S4ZCZYBV', 'A32D5I46E15TEC', 'A32H6TQKJ1PQTP', 'A32KYN14BUANDF', 'A32OQFYMJ18HD6', 'A333LLJ35S8DVV', 'A33M6H443E78K3', 'A33S6R9E8SJQBP', 'A34DAQYDWYMVSG', 'A35F9VHYWAFR8J', 'A35F9XOEGELEWC', 'A35PB7968I55RI', 'A35RIL0AVMMXXL', 'A35Y5NLC3UEUQD', 'A367NSWV6NUSL1', 'A36I89SEZ432XE', 'A375WSDCO30KT9', 'A37G41T4DD51AH', 'A37M369VIVDDVJ', 'A37OPVPXMWHJJK', 'A37WMXX147RL1X', 'A37XPPIGUTR4LE', 'A388NSX468EY1E', 'A38GODWWMRN5IP', 'A38J6ZI0XZOY54', 'A38KP6TI3BUIM6', 'A38KUK8INKLRVW', 'A38OH5OTHDIENK', 'A38QGF4YG5YLUX', 'A3909LKTROS8XZ', 'A3961EO6PXRSV4', 'A39LZUDABR584J', 'A39PTGNQVCNU44', 'A39VI1UOID3TYE', 'A39YNT3CHM2I0Z', 'A3A3FMJO4E1E16', 'A3B99K4E030SZQ', 'A3BE6JK97CYAGA', 'A3BLE5G96342IP', 'A3BNG9PTUPB4QO', 'A3BPFL7PM0EX1K', 'A3BT1WLPENXMD6', 'A3BU92XQ2M0FQV', 'A3BWTFXS9CXVAE', 'A3BXCNI6BG5GCW', 'A3C2F0Y7G5FRW3', 'A3CBKKG14IB1KH', 'A3CQ0NMUJ9TODP', 'A3CUAESGA4K7FU', 'A3CXM8XQ5Q1KPP', 'A3D0FFKCWXN2LR', 'A3D1IGUMS62SNU', 'A3D1VPTQGDS7H3', 'A3D4BNTGWVUMYY', 'A3DKARAF791Z5X', 'A3DTSBINBC9T1Y', 'A3DXQ86N43AUK3', 'A3DXW3542E4QUC', 'A3E9HGSGQCU4CT', 'A3EAHHQ7KV8LFG', 'A3EJS66CXBQLE8', 'A3ENBUF1TIQR5K', 'A3EZHDCUB7I4KM', 'A3F1C4MOB3X5XL', 'A3F6V5A2SFES04', 'A3FDEHXOYLD1AC', 'A3FGDP5PT4SPLK', 'A3FGWJLDNTJWED', 'A3G1X7LFBAPCUJ', 'A3GCKFO3G4AHLF', 'A3GGSN44XCR1LP', 'A3GPMU8E282AUW', 'A3GRQ9WMP4OXFE', 'A3GWKJFBX8ZKT6', 'A3H8Z7JS7XJHJJ', 'A3HRUR5VRFZ09F', 'A3IGRPW3T3WYYQ', 'A3J1T4IGQLKKMB', 'A3J9IGXNOJR2BL', 'A3JA23Z053GQH', 'A3JCDPKW3RY4RN', 'A3JEQJCEMX20GI', 'A3KFRJBKYYNED7', 'A3KS7QCK708PRV', 'A3KYSCD09GNSUT', 'A3LA1YKU7MU28G', 'A3LEZ2F3IJC8PI', 'A3LIUDVZL87BJ1', 'A3LW4UWD5IH59X', 'A3LX43D34SINN3', 'A3LZ31BL10WT5Y', 'A3MAKZCODKKTYI', 'A3MFCMTXMF9B6W', 'A3MKAAS1OCULM6', 'A3MOSFTVDLAPDQ', 'A3MSPZTFP55OAG', 'A3MYAEQWFLNGT7', 'A3N4SR54KR77RK', 'A3NVFNLI1D4JUI', 'A3NYG8M131X9CM', 'A3OAQJCQBNF2JV', 'A3OCZRK8OEGZKL', 'A3OIDZP7AI0URM', 'A3OVOP3ZAF1EZ2', 'A3P3RV0CUR0VRQ', 'A3P8Z0J9AH92IZ', 'A3PJ22YDBOO8DN', 'A3PLMGKX9OQWOY', 'A3QL4UXK2Z5Q7T', 'A3QLWWO4V4PFMJ', 'A3QUUP6DYHF9YC', 'A3R7ZWTFN19KIX', 'A3RCVP2TSCL409', 'A3RUEIK67SFBFQ', 'A3SG2GXNRU6AO8', 'A3SL5YEUG12X9A', 'A3SME2XHYE99M5', 'A3T0BPK8JD6MD5', 'A3T2OTYYUYGLP0', 'A3T35MARIMRX9M', 'A3T9MTY43BVAL8', 'A3T9WXXE7EWNT8', 'A3TELGW4O61A61', 'A3TGG91X7W9SE8', 'A3TSVNG02WZYSW', 'A3U32YT7BSZ0KJ', 'A3UAJ5O4VR3IQ3', 'A3UBQFB24OY57', 'A3UCBR5T51RVRF', 'A3URWO9TFNH3IW', 'A3V81XSQIPRKO8', 'A3V9LE9I6Z5AF3', 'A3VEZWV624JM4O', 'A3VFDFSQ8X74WJ', 'A3VXSKW11C3301', 'A4INUX2JA7KE2', 'A4IQXCCXDEAKW', 'A4PZHPMLBS8T3', 'A4SRPWVKZ8MBC', 'A4V3S90H5OZTV', 'A4VQ44JM97RBL', 'A5ECS1R7F1TUD', 'A5LV53PMV1X6R', 'A674HJEQGJ5R9', 'A679PFWSVAY0B', 'A6IX0T5Z4NEXG', 'A6JVX3BIR03UT', 'A6P34Q7M983DN', 'A72IXFDV3HVU6', 'A74XHLD33IB9S', 'A7EG6541KYNIU', 'A7HS9Y95Y9BI6', 'A7JUHUYLXIUVQ', 'A7KQ3EGH8QTDS', 'A7SILTHEWXQ8T', 'A7Y4ETTLARUGI', 'A7Z2BG3284EE8', 'A8FMILLDHAI14', 'A8JUUA4GHIAMI', 'A8LVPPXFVYGVU', 'A8ZUDRNPFB0FU', 'A9BXB2XYAW169', 'A9LOWDS5H848B', 'AA3TPN2ZXE9TE', 'AAD3T3WYTF1BR', 'AAJ1IA9SFH4IG', 'AAT4JCLA3VGRZ', 'ABNE90UVC4BMT', 'ABSMQNX2PDSWH', 'ABWCUEDFH8W5H', 'ABYOL1GQA39OB', 'AC0X1OVDMJX9', 'ACCY5NWUNEC87', 'ACE1ZIOI3U6PY', 'ACLAKWV2EFFB5', 'AD9O852KPYLHY', 'ADDXT6NXD9GQ7', 'ADG8D8X6P9X7M', 'ADR4IE33O06IJ', 'ADV1MNMPVS17V', 'ADYRHTPM2T2SE', 'AE6VHWVRXHU19', 'AEKJTREHL41OE', 'AEP7KPEZWI7VY', 'AETOYW0R5VN0X', 'AEZBSOFLB44RG', 'AFE9H6ABXM735', 'AFMQ7BBR4FYMB', 'AFY8EIWAT6H8J', 'AG0867QGE3R2B', 'AG3T3ILPXFL3H', 'AG74ZKO3BG57J', 'AGORXWI6K2RIR', 'AGRZQOBCF8H87', 'AGTD0T9R78YLG', 'AGYIYIVZHBI60', 'AHGNU4UWGATOH', 'AHYRXYR235TWH', 'AIB7HX2UC3WHM', 'AITF34BGBMVJJ', 'AIU7HYQIC5D95', 'AJHSB0LT8NKP4', 'AJYMJEC6B7V52', 'AK4VANLR5UK95', 'AK7YIZE6ZZ1N9', 'AKHSKD91MQ9DP', 'ALUZH689LQE6K', 'ALWLZC3GRRXPN', 'AM1KUDVTKXIAQ', 'AM9HBLGAPZQR7', 'AMA98TY969A1T', 'AMLDY4QY4HV0D', 'AMVZ9HW23Y42N', 'AN3QZR3OD7SFO', 'ANC6FN6T8JBB2', 'ANDGVKQ15NCZM', 'ANFUWUOC7EJKR', 'ANG7MOYBTWQE6', 'ANJ6Y9G0B4TM8', 'ANR73TPVBCQ9K', 'ANT034IX5ZPI9', 'AOB2Y1KJQG7K7', 'AONHG4PDUQ0D6', 'APA9SALOTTBM6', 'APARJQGAD0J4C', 'AQ5PKYF0FJA4B', 'AQCQQYEUHUX3M', 'AQYL4TDY2HU8Z', 'AR9Y0CM5B174', 'ARLN791TA1RV7', 'AS8T77HTF9IHW', 'ASGIVOW34XNQS', 'ATJRZUXNWAWIK', 'ATP2UCHTR7QMZ', 'ATR9J7TYR1KVL', 'ATVP6QJLS27EN', 'AU03W1V42994X', 'AU1BVXGV2KO8I', 'AU2JWZMFEVAH5', 'AU3MVNMVFSIM', 'AUKMWTDK16PAP', 'AUWJT1DM7SG2D', 'AV0O5NWF2NKDF', 'AV2MC7NNTMKTF', 'AVC89473DX6XU', 'AVFBQDR2KRNK6', 'AVIMJH2FF6QCH', 'AVO5FL5T9EZSR', 'AVQ0V2MIW2Z5K', 'AVWSUUBWD3RK4', 'AWJFUVK3064HX', 'AXM9OKKHRR4RP', 'AXPZI9N8HVHYO', 'AXQ57AZLKLPCQ', 'AXQS1B3WVRHQV', 'AXS7NH3GDN7EE', 'AY4F95T0JSTZ2', 'AYG63OK9TNBNP', 'AZE64W03EUJA4', 'AZECTAHZICNW5', 'AZEGZXCFTLSQB', 'AZEKC7DEXXJD7', 'AZFGSCB0S59LQ', 'AZHS42HV4FKKA']\n"
          ]
        }
      ]
    },
    {
      "cell_type": "markdown",
      "source": [
        "結果評估"
      ],
      "metadata": {
        "id": "de3946pXmRAc"
      },
      "id": "de3946pXmRAc"
    },
    {
      "cell_type": "code",
      "source": [
        "def evaluate(ratings_testings_by_user={}, ratings_by_user={}, method=None):\n",
        "    '''\n",
        "    * ratings_testings_by_user: dict 真實被購買的商品資料（2018-09-01 以後資料）\n",
        "    * ratings_by_user: dict 利用訓練資料學習的推薦商品\n",
        "    * method: str\n",
        "    * score: float\n",
        "    '''\n",
        "    total = 0\n",
        "    for d in ratings_testings_by_user:\n",
        "        if d in ratings_by_user:\n",
        "            total += len(set(ratings_by_user[d]) & set(ratings_testings_by_user[d]))\n",
        "\n",
        "    score = total / len(ratings_testings)\n",
        "    return score\n",
        "\n",
        "evaluate(ratings_testings_by_user, ratings_by_user_cf_itembased)"
      ],
      "metadata": {
        "colab": {
          "base_uri": "https://localhost:8080/"
        },
        "id": "Y4wy_71pl42a",
        "outputId": "203290a0-e86f-4e20-f638-d213f54fe090"
      },
      "id": "Y4wy_71pl42a",
      "execution_count": 24,
      "outputs": [
        {
          "output_type": "execute_result",
          "data": {
            "text/plain": [
              "0.001694915254237288"
            ]
          },
          "metadata": {},
          "execution_count": 24
        }
      ]
    },
    {
      "cell_type": "markdown",
      "source": [
        "# CF-surprise recommendation"
      ],
      "metadata": {
        "id": "uDqxFWXTDELR"
      },
      "id": "uDqxFWXTDELR"
    },
    {
      "cell_type": "code",
      "source": [
        "import time\n",
        "import pandas as pd\n",
        "from surprise import Reader\n",
        "from surprise import Dataset\n",
        "from surprise import KNNBasic"
      ],
      "metadata": {
        "id": "sMwelxMWx5H7"
      },
      "id": "sMwelxMWx5H7",
      "execution_count": 26,
      "outputs": []
    },
    {
      "cell_type": "code",
      "source": [
        "def recommender(training_data, users=[], k=10, user_based=False, algo=KNNBasic):\n",
        "\n",
        "    training_data = (\n",
        "        training_data\n",
        "        .sort_values(\"DATE\", ascending=False)\n",
        "        .groupby(['reviewerID', 'asin']).head(1)\n",
        "    )\n",
        "\n",
        "    reader = Reader(rating_scale=(0, 5))\n",
        "    training_data = training_data[['reviewerID', 'asin', 'overall']]\n",
        "    data = Dataset.load_from_df(training_data, reader=reader)\n",
        "\n",
        "    sim_options = {\n",
        "        'name': 'cosine',\n",
        "        'user_based': user_based  # compute similarities between items\n",
        "    }\n",
        "    algo_impl = algo(sim_options=sim_options)\n",
        "    trainset = data.build_full_trainset()\n",
        "    algo_impl.fit(trainset)\n",
        "\n",
        "    recommendation = {}\n",
        "    for user in users:\n",
        "        items_user_rated = set(training_data.loc[training_data['reviewerID'] == user]['asin'].to_list())\n",
        "        recommend_item_list = []\n",
        "        recommend_item_set = set()\n",
        "        for item in items_user_rated:\n",
        "            iid = algo_impl.trainset.to_inner_iid(item)\n",
        "            recommend_items_iid = algo_impl.get_neighbors(iid, k)\n",
        "            for sim_item_iid in recommend_items_iid:\n",
        "                item_raw_id = algo_impl.trainset.to_raw_iid(sim_item_iid)\n",
        "                if item_raw_id not in items_user_rated and item_raw_id not in recommend_item_set:\n",
        "                    recommend_item_list.append(item_raw_id)\n",
        "                    recommend_item_set.add(item_raw_id)\n",
        "\n",
        "            if len(recommend_item_list) >= k:\n",
        "                recommend_item_list = recommend_item_list[:k]\n",
        "                break\n",
        "        recommendation[user] = recommend_item_list\n",
        "\n",
        "    return recommendation\n",
        "\n",
        "ratings_by_user_surprise = recommender(ratings_trainings, users)\n",
        "#ratings_by_user_surprise"
      ],
      "metadata": {
        "colab": {
          "base_uri": "https://localhost:8080/"
        },
        "id": "emBrWfjWwz5F",
        "outputId": "2eb5fc11-b439-4d8e-9aa4-eb602a6393e8"
      },
      "id": "emBrWfjWwz5F",
      "execution_count": null,
      "outputs": [
        {
          "output_type": "stream",
          "name": "stdout",
          "text": [
            "Computing the cosine similarity matrix...\n"
          ]
        }
      ]
    },
    {
      "cell_type": "markdown",
      "source": [
        "\n",
        "*   Ram is not enough\n",
        "\n"
      ],
      "metadata": {
        "id": "0E5RPt2_3uYq"
      },
      "id": "0E5RPt2_3uYq"
    },
    {
      "cell_type": "code",
      "source": [
        ""
      ],
      "metadata": {
        "id": "vu6ATiU531vQ"
      },
      "id": "vu6ATiU531vQ",
      "execution_count": null,
      "outputs": []
    }
  ],
  "metadata": {
    "kernelspec": {
      "display_name": "Python 3",
      "language": "python",
      "name": "python3"
    },
    "language_info": {
      "codemirror_mode": {
        "name": "ipython",
        "version": 3
      },
      "file_extension": ".py",
      "mimetype": "text/x-python",
      "name": "python",
      "nbconvert_exporter": "python",
      "pygments_lexer": "ipython3",
      "version": "3.6.5"
    },
    "colab": {
      "name": "Tim「S5- Collaborative Filtering 」- HW3_new",
      "provenance": [],
      "collapsed_sections": [],
      "include_colab_link": true
    }
  },
  "nbformat": 4,
  "nbformat_minor": 5
}