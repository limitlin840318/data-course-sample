{
  "cells": [
    {
      "cell_type": "markdown",
      "metadata": {
        "id": "MZclbxGREeZx"
      },
      "source": [
        "## 基礎建設"
      ],
      "id": "MZclbxGREeZx"
    },
    {
      "cell_type": "code",
      "execution_count": 2,
      "metadata": {
        "scrolled": true,
        "id": "oTfJxIZ7EeZz"
      },
      "outputs": [],
      "source": [
        "import pandas as pd\n",
        "import gzip, json\n",
        "\n",
        "def parse(path):\n",
        "    g = gzip.open(path, 'rb')\n",
        "    for l in g:\n",
        "        yield json.loads(l)\n",
        "\n",
        "def getDF(path):\n",
        "    i = 0\n",
        "    df = {}\n",
        "    for d in parse(path):\n",
        "        df[i] = d\n",
        "        i += 1\n",
        "    return pd.DataFrame.from_dict(df, orient='index')"
      ],
      "id": "oTfJxIZ7EeZz"
    },
    {
      "cell_type": "code",
      "source": [
        "import warnings\n",
        "warnings.filterwarnings(\"ignore\")\n",
        "import pandas as pd\n",
        "import numpy as np\n",
        "import re\n",
        "import string"
      ],
      "metadata": {
        "id": "AGQcxRuZiNYr"
      },
      "id": "AGQcxRuZiNYr",
      "execution_count": 48,
      "outputs": []
    },
    {
      "cell_type": "markdown",
      "metadata": {
        "id": "S3FRKjMjEeZ1"
      },
      "source": [
        "## 載入資料"
      ],
      "id": "S3FRKjMjEeZ1"
    },
    {
      "cell_type": "code",
      "execution_count": 4,
      "metadata": {
        "colab": {
          "base_uri": "https://localhost:8080/"
        },
        "id": "hfNZAOuSEeZ2",
        "outputId": "36966429-3d3c-43b8-9807-7e0e69166f1d"
      },
      "outputs": [
        {
          "output_type": "stream",
          "name": "stdout",
          "text": [
            "--2022-01-02 15:10:56--  http://deepyeti.ucsd.edu/jianmo/amazon/categoryFilesSmall/All_Beauty.csv\n",
            "Resolving deepyeti.ucsd.edu (deepyeti.ucsd.edu)... 169.228.63.50\n",
            "Connecting to deepyeti.ucsd.edu (deepyeti.ucsd.edu)|169.228.63.50|:80... connected.\n",
            "HTTP request sent, awaiting response... 200 OK\n",
            "Length: 15499476 (15M) [application/octet-stream]\n",
            "Saving to: ‘All_Beauty.csv.2’\n",
            "\n",
            "All_Beauty.csv.2    100%[===================>]  14.78M  8.84MB/s    in 1.7s    \n",
            "\n",
            "2022-01-02 15:10:59 (8.84 MB/s) - ‘All_Beauty.csv.2’ saved [15499476/15499476]\n",
            "\n",
            "--2022-01-02 15:10:59--  http://deepyeti.ucsd.edu/jianmo/amazon/metaFiles2/meta_All_Beauty.json.gz\n",
            "Resolving deepyeti.ucsd.edu (deepyeti.ucsd.edu)... 169.228.63.50\n",
            "Connecting to deepyeti.ucsd.edu (deepyeti.ucsd.edu)|169.228.63.50|:80... connected.\n",
            "HTTP request sent, awaiting response... 200 OK\n",
            "Length: 10329961 (9.9M) [application/octet-stream]\n",
            "Saving to: ‘meta_All_Beauty.json.gz.2’\n",
            "\n",
            "meta_All_Beauty.jso 100%[===================>]   9.85M  6.57MB/s    in 1.5s    \n",
            "\n",
            "2022-01-02 15:11:00 (6.57 MB/s) - ‘meta_All_Beauty.json.gz.2’ saved [10329961/10329961]\n",
            "\n"
          ]
        }
      ],
      "source": [
        "!wget http://deepyeti.ucsd.edu/jianmo/amazon/categoryFilesSmall/All_Beauty.csv\n",
        "!wget http://deepyeti.ucsd.edu/jianmo/amazon/metaFiles2/meta_All_Beauty.json.gz"
      ],
      "id": "hfNZAOuSEeZ2"
    },
    {
      "cell_type": "code",
      "execution_count": 109,
      "metadata": {
        "id": "FC58K8_dEeZ3"
      },
      "outputs": [],
      "source": [
        "#商品的基本資訊 metadata,購買商品的紀錄 ratings\n",
        "metadata = getDF('/content/meta_All_Beauty.json.gz')\n",
        "ratings = pd.read_csv('/content/All_Beauty.csv', names=['asin', 'reviewerID', 'overall', 'unixReviewTime'], header=None)"
      ],
      "id": "FC58K8_dEeZ3"
    },
    {
      "cell_type": "markdown",
      "metadata": {
        "id": "5QRC8P4CEeZ5"
      },
      "source": [
        "## 資料整理"
      ],
      "id": "5QRC8P4CEeZ5"
    },
    {
      "cell_type": "code",
      "execution_count": 110,
      "metadata": {
        "id": "xLc1tIvBEeZ6"
      },
      "outputs": [],
      "source": [
        "ratings['DATE'] = pd.to_datetime(ratings['unixReviewTime'], unit='s')"
      ],
      "id": "xLc1tIvBEeZ6"
    },
    {
      "cell_type": "code",
      "source": [
        "# drop duplicates rows\n",
        "metadata_clean = metadata.loc[metadata.astype(str).drop_duplicates().index]"
      ],
      "metadata": {
        "id": "DzWE59zBZiVa"
      },
      "id": "DzWE59zBZiVa",
      "execution_count": 111,
      "outputs": []
    },
    {
      "cell_type": "code",
      "source": [
        "# 商品資訊- select useful columns\n",
        "metadata_clean = metadata_clean[['asin', 'brand', 'title', 'rank','description']]"
      ],
      "metadata": {
        "id": "eCWkWeLdlIMC"
      },
      "id": "eCWkWeLdlIMC",
      "execution_count": 112,
      "outputs": []
    },
    {
      "cell_type": "code",
      "source": [
        "metadata_clean['rank'] = metadata_clean['rank'].str.replace('&amp;', '&')\n",
        "metadata_clean['rank'].fillna('0', inplace = True)\n",
        "# 商品資訊-買什麼種類\n",
        "metadata_clean['categories'] = [re.search('in (.*) \\(', r).group(1) if r != '0' else None for r in metadata_clean['rank']]\n",
        "\n",
        "# 取出字串前段數字,取代掉千分位\n",
        "metadata_clean['rank'] = metadata_clean['rank'].str.split(expand = True)[0].str.replace(',', '')\n",
        "# 排名，轉換型別\n",
        "metadata_clean['rank'] = pd.to_numeric(metadata_clean['rank'])"
      ],
      "metadata": {
        "id": "Nj5QRZE5Z6mj"
      },
      "id": "Nj5QRZE5Z6mj",
      "execution_count": 113,
      "outputs": []
    },
    {
      "cell_type": "code",
      "source": [
        "metadata_clean['title'] = metadata_clean['title'].str.replace('&amp;', '&')"
      ],
      "metadata": {
        "id": "tEXT-D3VHh45"
      },
      "id": "tEXT-D3VHh45",
      "execution_count": 114,
      "outputs": []
    },
    {
      "cell_type": "code",
      "source": [
        "#asin mean score\n",
        "#asin_rating = ratings.groupby('asin')[['overall']].mean().reset_index().rename(columns={\"asin\": \"asin\", \"overall\": \"rating_mean\"})"
      ],
      "metadata": {
        "id": "Qw33Z45w54E_"
      },
      "id": "Qw33Z45w54E_",
      "execution_count": 115,
      "outputs": []
    },
    {
      "cell_type": "code",
      "source": [
        "#metadata_clean = pd.merge(metadata_clean,asin_rating , on=\"asin\", how=\"left\")"
      ],
      "metadata": {
        "id": "602GDgtXyPON"
      },
      "id": "602GDgtXyPON",
      "execution_count": 116,
      "outputs": []
    },
    {
      "cell_type": "code",
      "source": [
        "metadata_clean['categories'].unique()"
      ],
      "metadata": {
        "colab": {
          "base_uri": "https://localhost:8080/"
        },
        "id": "c2VeBO1MbFG5",
        "outputId": "e651b8f7-23d0-431b-9658-55149453518d"
      },
      "id": "c2VeBO1MbFG5",
      "execution_count": 117,
      "outputs": [
        {
          "output_type": "execute_result",
          "data": {
            "text/plain": [
              "array(['Beauty & Personal Care', None, 'Grocery & Gourmet Food',\n",
              "       'Health & Household', 'Sports & Outdoors', 'Toys & Games', 'Baby',\n",
              "       'Clothing, Shoes & Jewelry', 'Home & Kitchen', 'Automotive',\n",
              "       'Tools & Home Improvement'], dtype=object)"
            ]
          },
          "metadata": {},
          "execution_count": 117
        }
      ]
    },
    {
      "cell_type": "code",
      "source": [
        "metadata_clean['description'] = metadata_clean['description'].str.join(',')\n",
        "metadata_clean['desc'] = metadata_clean['categories']  +' '+ metadata_clean[\"title\"] +' '+ metadata_clean[\"description\"]"
      ],
      "metadata": {
        "id": "4xRNqXLgT6bQ"
      },
      "id": "4xRNqXLgT6bQ",
      "execution_count": 118,
      "outputs": []
    },
    {
      "cell_type": "code",
      "source": [
        "metadata_clean['desc'] = metadata_clean['desc'].str.lower()"
      ],
      "metadata": {
        "id": "Oo76GspyWxZ3"
      },
      "id": "Oo76GspyWxZ3",
      "execution_count": 119,
      "outputs": []
    },
    {
      "cell_type": "code",
      "source": [
        "metadata_clean.head(10)"
      ],
      "metadata": {
        "colab": {
          "base_uri": "https://localhost:8080/",
          "height": 581
        },
        "id": "l_Q1zwFgUDc_",
        "outputId": "2e0006e4-38e2-4dbf-82b1-9d0fd6d47aeb"
      },
      "id": "l_Q1zwFgUDc_",
      "execution_count": 120,
      "outputs": [
        {
          "output_type": "execute_result",
          "data": {
            "text/html": [
              "\n",
              "  <div id=\"df-cb42b46c-da15-483d-b442-929b37cd6177\">\n",
              "    <div class=\"colab-df-container\">\n",
              "      <div>\n",
              "<style scoped>\n",
              "    .dataframe tbody tr th:only-of-type {\n",
              "        vertical-align: middle;\n",
              "    }\n",
              "\n",
              "    .dataframe tbody tr th {\n",
              "        vertical-align: top;\n",
              "    }\n",
              "\n",
              "    .dataframe thead th {\n",
              "        text-align: right;\n",
              "    }\n",
              "</style>\n",
              "<table border=\"1\" class=\"dataframe\">\n",
              "  <thead>\n",
              "    <tr style=\"text-align: right;\">\n",
              "      <th></th>\n",
              "      <th>asin</th>\n",
              "      <th>brand</th>\n",
              "      <th>title</th>\n",
              "      <th>rank</th>\n",
              "      <th>description</th>\n",
              "      <th>categories</th>\n",
              "      <th>desc</th>\n",
              "    </tr>\n",
              "  </thead>\n",
              "  <tbody>\n",
              "    <tr>\n",
              "      <th>0</th>\n",
              "      <td>6546546450</td>\n",
              "      <td>idea village</td>\n",
              "      <td>Loud 'N Clear&amp;trade; Personal Sound Amplifier</td>\n",
              "      <td>2938573</td>\n",
              "      <td>Loud 'N Clear Personal Sound Amplifier allows ...</td>\n",
              "      <td>Beauty &amp; Personal Care</td>\n",
              "      <td>beauty &amp; personal care loud 'n clear&amp;trade; pe...</td>\n",
              "    </tr>\n",
              "    <tr>\n",
              "      <th>1</th>\n",
              "      <td>7178680776</td>\n",
              "      <td></td>\n",
              "      <td>No7 Lift &amp; Luminate Triple Action Serum 50ml b...</td>\n",
              "      <td>872854</td>\n",
              "      <td>No7 Lift &amp; Luminate Triple Action Serum 50ml b...</td>\n",
              "      <td>Beauty &amp; Personal Care</td>\n",
              "      <td>beauty &amp; personal care no7 lift &amp; luminate tri...</td>\n",
              "    </tr>\n",
              "    <tr>\n",
              "      <th>2</th>\n",
              "      <td>7250468162</td>\n",
              "      <td>No7</td>\n",
              "      <td>No7 Stay Perfect Foundation Cool Vanilla by No7</td>\n",
              "      <td>956696</td>\n",
              "      <td>No7 Stay Perfect Foundation now stays perfect ...</td>\n",
              "      <td>Beauty &amp; Personal Care</td>\n",
              "      <td>beauty &amp; personal care no7 stay perfect founda...</td>\n",
              "    </tr>\n",
              "    <tr>\n",
              "      <th>3</th>\n",
              "      <td>7367905066</td>\n",
              "      <td></td>\n",
              "      <td>Wella Koleston Perfect Hair Colour 44/44 Mediu...</td>\n",
              "      <td>1870258</td>\n",
              "      <td></td>\n",
              "      <td>Beauty &amp; Personal Care</td>\n",
              "      <td>beauty &amp; personal care wella koleston perfect ...</td>\n",
              "    </tr>\n",
              "    <tr>\n",
              "      <th>4</th>\n",
              "      <td>7414204790</td>\n",
              "      <td>Pirmal Healthcare</td>\n",
              "      <td>Lacto Calamine Skin Balance Oil control 120 ml...</td>\n",
              "      <td>67701</td>\n",
              "      <td>Lacto Calamine Skin Balance Daily Nourishing L...</td>\n",
              "      <td>Beauty &amp; Personal Care</td>\n",
              "      <td>beauty &amp; personal care lacto calamine skin bal...</td>\n",
              "    </tr>\n",
              "    <tr>\n",
              "      <th>5</th>\n",
              "      <td>7535842801</td>\n",
              "      <td>Mary Kay</td>\n",
              "      <td>Mary Kay Satin Hands Hand Cream Travel MINI Si...</td>\n",
              "      <td>699317</td>\n",
              "      <td>Mary Kay Satin Hands Peach Hand Cream Travel S...</td>\n",
              "      <td>Beauty &amp; Personal Care</td>\n",
              "      <td>beauty &amp; personal care mary kay satin hands ha...</td>\n",
              "    </tr>\n",
              "    <tr>\n",
              "      <th>6</th>\n",
              "      <td>7538626107</td>\n",
              "      <td></td>\n",
              "      <td>Unique Custom Cast Iron Liner Shader Tattoo Ma...</td>\n",
              "      <td>3206658</td>\n",
              "      <td></td>\n",
              "      <td>Beauty &amp; Personal Care</td>\n",
              "      <td>beauty &amp; personal care unique custom cast iron...</td>\n",
              "    </tr>\n",
              "    <tr>\n",
              "      <th>7</th>\n",
              "      <td>8279996397</td>\n",
              "      <td>Chango</td>\n",
              "      <td>Imagen Bendita Por Su Santidad Our Lady of Cha...</td>\n",
              "      <td>1741858</td>\n",
              "      <td>According to the legend, in 1613, two brothers...</td>\n",
              "      <td>Beauty &amp; Personal Care</td>\n",
              "      <td>beauty &amp; personal care imagen bendita por su s...</td>\n",
              "    </tr>\n",
              "    <tr>\n",
              "      <th>8</th>\n",
              "      <td>8637910351</td>\n",
              "      <td>Srpska knjizevna zadruga</td>\n",
              "      <td>Mali princ</td>\n",
              "      <td>2136432</td>\n",
              "      <td>Novi prevod proslavljene knjige Zadruga objavl...</td>\n",
              "      <td>Beauty &amp; Personal Care</td>\n",
              "      <td>beauty &amp; personal care mali princ novi prevod ...</td>\n",
              "    </tr>\n",
              "    <tr>\n",
              "      <th>9</th>\n",
              "      <td>8867326759</td>\n",
              "      <td>Sunatoria</td>\n",
              "      <td>Moleskine Payne's Grey Card Wallet (Moleskine ...</td>\n",
              "      <td>1260339</td>\n",
              "      <td>Moleskine's Card Wallet in Payne's Grey is the...</td>\n",
              "      <td>Beauty &amp; Personal Care</td>\n",
              "      <td>beauty &amp; personal care moleskine payne's grey ...</td>\n",
              "    </tr>\n",
              "  </tbody>\n",
              "</table>\n",
              "</div>\n",
              "      <button class=\"colab-df-convert\" onclick=\"convertToInteractive('df-cb42b46c-da15-483d-b442-929b37cd6177')\"\n",
              "              title=\"Convert this dataframe to an interactive table.\"\n",
              "              style=\"display:none;\">\n",
              "        \n",
              "  <svg xmlns=\"http://www.w3.org/2000/svg\" height=\"24px\"viewBox=\"0 0 24 24\"\n",
              "       width=\"24px\">\n",
              "    <path d=\"M0 0h24v24H0V0z\" fill=\"none\"/>\n",
              "    <path d=\"M18.56 5.44l.94 2.06.94-2.06 2.06-.94-2.06-.94-.94-2.06-.94 2.06-2.06.94zm-11 1L8.5 8.5l.94-2.06 2.06-.94-2.06-.94L8.5 2.5l-.94 2.06-2.06.94zm10 10l.94 2.06.94-2.06 2.06-.94-2.06-.94-.94-2.06-.94 2.06-2.06.94z\"/><path d=\"M17.41 7.96l-1.37-1.37c-.4-.4-.92-.59-1.43-.59-.52 0-1.04.2-1.43.59L10.3 9.45l-7.72 7.72c-.78.78-.78 2.05 0 2.83L4 21.41c.39.39.9.59 1.41.59.51 0 1.02-.2 1.41-.59l7.78-7.78 2.81-2.81c.8-.78.8-2.07 0-2.86zM5.41 20L4 18.59l7.72-7.72 1.47 1.35L5.41 20z\"/>\n",
              "  </svg>\n",
              "      </button>\n",
              "      \n",
              "  <style>\n",
              "    .colab-df-container {\n",
              "      display:flex;\n",
              "      flex-wrap:wrap;\n",
              "      gap: 12px;\n",
              "    }\n",
              "\n",
              "    .colab-df-convert {\n",
              "      background-color: #E8F0FE;\n",
              "      border: none;\n",
              "      border-radius: 50%;\n",
              "      cursor: pointer;\n",
              "      display: none;\n",
              "      fill: #1967D2;\n",
              "      height: 32px;\n",
              "      padding: 0 0 0 0;\n",
              "      width: 32px;\n",
              "    }\n",
              "\n",
              "    .colab-df-convert:hover {\n",
              "      background-color: #E2EBFA;\n",
              "      box-shadow: 0px 1px 2px rgba(60, 64, 67, 0.3), 0px 1px 3px 1px rgba(60, 64, 67, 0.15);\n",
              "      fill: #174EA6;\n",
              "    }\n",
              "\n",
              "    [theme=dark] .colab-df-convert {\n",
              "      background-color: #3B4455;\n",
              "      fill: #D2E3FC;\n",
              "    }\n",
              "\n",
              "    [theme=dark] .colab-df-convert:hover {\n",
              "      background-color: #434B5C;\n",
              "      box-shadow: 0px 1px 3px 1px rgba(0, 0, 0, 0.15);\n",
              "      filter: drop-shadow(0px 1px 2px rgba(0, 0, 0, 0.3));\n",
              "      fill: #FFFFFF;\n",
              "    }\n",
              "  </style>\n",
              "\n",
              "      <script>\n",
              "        const buttonEl =\n",
              "          document.querySelector('#df-cb42b46c-da15-483d-b442-929b37cd6177 button.colab-df-convert');\n",
              "        buttonEl.style.display =\n",
              "          google.colab.kernel.accessAllowed ? 'block' : 'none';\n",
              "\n",
              "        async function convertToInteractive(key) {\n",
              "          const element = document.querySelector('#df-cb42b46c-da15-483d-b442-929b37cd6177');\n",
              "          const dataTable =\n",
              "            await google.colab.kernel.invokeFunction('convertToInteractive',\n",
              "                                                     [key], {});\n",
              "          if (!dataTable) return;\n",
              "\n",
              "          const docLinkHtml = 'Like what you see? Visit the ' +\n",
              "            '<a target=\"_blank\" href=https://colab.research.google.com/notebooks/data_table.ipynb>data table notebook</a>'\n",
              "            + ' to learn more about interactive tables.';\n",
              "          element.innerHTML = '';\n",
              "          dataTable['output_type'] = 'display_data';\n",
              "          await google.colab.output.renderOutput(dataTable, element);\n",
              "          const docLink = document.createElement('div');\n",
              "          docLink.innerHTML = docLinkHtml;\n",
              "          element.appendChild(docLink);\n",
              "        }\n",
              "      </script>\n",
              "    </div>\n",
              "  </div>\n",
              "  "
            ],
            "text/plain": [
              "         asin  ...                                               desc\n",
              "0  6546546450  ...  beauty & personal care loud 'n clear&trade; pe...\n",
              "1  7178680776  ...  beauty & personal care no7 lift & luminate tri...\n",
              "2  7250468162  ...  beauty & personal care no7 stay perfect founda...\n",
              "3  7367905066  ...  beauty & personal care wella koleston perfect ...\n",
              "4  7414204790  ...  beauty & personal care lacto calamine skin bal...\n",
              "5  7535842801  ...  beauty & personal care mary kay satin hands ha...\n",
              "6  7538626107  ...  beauty & personal care unique custom cast iron...\n",
              "7  8279996397  ...  beauty & personal care imagen bendita por su s...\n",
              "8  8637910351  ...  beauty & personal care mali princ novi prevod ...\n",
              "9  8867326759  ...  beauty & personal care moleskine payne's grey ...\n",
              "\n",
              "[10 rows x 7 columns]"
            ]
          },
          "metadata": {},
          "execution_count": 120
        }
      ]
    },
    {
      "cell_type": "code",
      "source": [
        "metadata_clean = metadata_clean[['asin','title','rank','description','desc']]"
      ],
      "metadata": {
        "id": "EqKnG9VtbZrX"
      },
      "id": "EqKnG9VtbZrX",
      "execution_count": 121,
      "outputs": []
    },
    {
      "cell_type": "markdown",
      "source": [
        "## 資料切分"
      ],
      "metadata": {
        "id": "OkCc0t_Ai8Un"
      },
      "id": "OkCc0t_Ai8Un"
    },
    {
      "cell_type": "code",
      "execution_count": 122,
      "metadata": {
        "id": "-8BEzAasEeZ6"
      },
      "outputs": [],
      "source": [
        "ratings_trainings = ratings[\n",
        "    (ratings['DATE'] < '2018-09-01') \n",
        "]\n",
        "ratings_testings = ratings[\n",
        "    (ratings['DATE'] >= '2018-09-01') & \n",
        "    (ratings['DATE'] <= '2018-09-30')\n",
        "]"
      ],
      "id": "-8BEzAasEeZ6"
    },
    {
      "cell_type": "code",
      "source": [
        "ratings_testings_by_user = ratings_testings.groupby('reviewerID').agg(list).reset_index()[['reviewerID', 'asin']].to_dict('records')\n",
        "ratings_testings_by_user = { rating['reviewerID']: rating['asin'] for rating in ratings_testings_by_user }\n",
        "users = list(ratings_testings_by_user.keys())"
      ],
      "metadata": {
        "id": "UZtRFWtMJALR"
      },
      "id": "UZtRFWtMJALR",
      "execution_count": 123,
      "outputs": []
    },
    {
      "cell_type": "markdown",
      "source": [
        "# Content-Based recommendation"
      ],
      "metadata": {
        "id": "o9dSJLQTkw1m"
      },
      "id": "o9dSJLQTkw1m"
    },
    {
      "cell_type": "markdown",
      "source": [
        "一、description"
      ],
      "metadata": {
        "id": "zW2aVUrrCXII"
      },
      "id": "zW2aVUrrCXII"
    },
    {
      "cell_type": "markdown",
      "source": [
        "產生推薦\n",
        "*   「描述」- tfidf矩陣\n",
        "*   cosine_similarity，回傳k個最相近的物品 "
      ],
      "metadata": {
        "id": "O356cFn3BdZ0"
      },
      "id": "O356cFn3BdZ0"
    },
    {
      "cell_type": "code",
      "source": [
        "metadata_clean['description']"
      ],
      "metadata": {
        "colab": {
          "base_uri": "https://localhost:8080/"
        },
        "id": "bUbrDg9Cc2qm",
        "outputId": "1798e0c9-0afa-4cc2-ec37-74f80aead122"
      },
      "id": "bUbrDg9Cc2qm",
      "execution_count": 124,
      "outputs": [
        {
          "output_type": "execute_result",
          "data": {
            "text/plain": [
              "0        Loud 'N Clear Personal Sound Amplifier allows ...\n",
              "1        No7 Lift & Luminate Triple Action Serum 50ml b...\n",
              "2        No7 Stay Perfect Foundation now stays perfect ...\n",
              "3                                                         \n",
              "4        Lacto Calamine Skin Balance Daily Nourishing L...\n",
              "                               ...                        \n",
              "32887                                                     \n",
              "32888                                                     \n",
              "32889                                                     \n",
              "32890    Brand new and high quality<br> Enables fast vo...\n",
              "32891                                                     \n",
              "Name: description, Length: 32488, dtype: object"
            ]
          },
          "metadata": {},
          "execution_count": 124
        }
      ]
    },
    {
      "cell_type": "code",
      "source": [
        "from sklearn.feature_extraction.text import TfidfVectorizer\n",
        "\n",
        "# 計算商品用標題所表示的 tfidf 矩陣\n",
        "df = metadata_clean.drop_duplicates('description')\n",
        "tf = TfidfVectorizer(analyzer='word', stop_words='english')"
      ],
      "metadata": {
        "id": "oJQF0rxCAAAo"
      },
      "id": "oJQF0rxCAAAo",
      "execution_count": 125,
      "outputs": []
    },
    {
      "cell_type": "code",
      "source": [
        "tfidf_matrix = tf.fit_transform(df['description'])"
      ],
      "metadata": {
        "id": "VYFqrXqvX-ET"
      },
      "id": "VYFqrXqvX-ET",
      "execution_count": 126,
      "outputs": []
    },
    {
      "cell_type": "code",
      "source": [
        "# 計算商品間的相似程度\n",
        "from sklearn.metrics.pairwise import cosine_similarity\n",
        "similarity_matrix = cosine_similarity(tfidf_matrix)\n",
        "mapping = pd.Series(df.index,index = df['description'])"
      ],
      "metadata": {
        "id": "TtvT0dyh7kbE"
      },
      "id": "TtvT0dyh7kbE",
      "execution_count": 129,
      "outputs": []
    },
    {
      "cell_type": "code",
      "source": [
        "# 每個商品回傳 k 個最相近的商品\n",
        "def recommend_item(item_input, k=2):\n",
        "    try:\n",
        "        item_index = mapping[item_input]\n",
        "        similarity_score = list(enumerate(similarity_matrix[item_index]))\n",
        "        similarity_score = sorted(similarity_score, key=lambda x: x[1], reverse=True)\n",
        "        similarity_score = similarity_score[:k]\n",
        "        item_indices = [i[0] for i in similarity_score]\n",
        "        return (df['asin'].iloc[item_indices].tolist())\n",
        "    except:\n",
        "        return []\n",
        "\n",
        "# 利用使用者購買過的商品產生推薦\n",
        "def recommend_items(items, k):\n",
        "    res = []\n",
        "    for d in items:\n",
        "        res.extend(recommend_item(d, k))\n",
        "    return res"
      ],
      "metadata": {
        "id": "Rf955OM33PbH"
      },
      "id": "Rf955OM33PbH",
      "execution_count": 130,
      "outputs": []
    },
    {
      "cell_type": "code",
      "source": [
        "#for user in users:\n",
        "  #print(ratings_trainings[ratings_trainings['reviewerID'] == user])\n",
        "  #print(metadata[metadata['asin'].isin(ratings_trainings[ratings_trainings['reviewerID'] == user]['asin'].tolist())]['title'].tolist())\n",
        "  #print(recommend_items(metadata[metadata['asin'].isin(ratings_trainings[ratings_trainings['reviewerID'] == user]['asin'].tolist())]['title'].tolist(), 2))"
      ],
      "metadata": {
        "id": "SS3LSQc2EpTJ"
      },
      "id": "SS3LSQc2EpTJ",
      "execution_count": null,
      "outputs": []
    },
    {
      "cell_type": "code",
      "source": [
        "def recommender(training_data, users=[], k=10):\n",
        "    '''\n",
        "    * training_data: dataframe 輸入的訓練資料集（2018-09-01 以前資料）\n",
        "    * users: [] 需要被推薦的使用者\n",
        "    * k: int 每個使用者需要推薦的商品數\n",
        "    * recommendations: dict\n",
        "      {\n",
        "          使用者一： [推薦商品一, 推薦商品二, ...],\n",
        "          使用者二： [...], ...\n",
        "      }\n",
        "    '''\n",
        "    recommendations = {}\n",
        "    '''\n",
        "    content-based\n",
        "    '''\n",
        "    ratings_trainings = training_data\n",
        "    # 近三個月作為沒有購買記錄使用者的推薦商品\n",
        "    ratings_trainings = ratings[\n",
        "    (ratings['DATE'] < '2018-09-01') & (ratings['DATE'] >= '2018-06-01')\n",
        "    ]\n",
        "\n",
        "    purchased_user_list = ratings_trainings.reviewerID.tolist()\n",
        "    top_ten_rcom = ratings_trainings.groupby('asin').count().sort_values('overall',ascending=False).head(k).index.tolist()\n",
        "\n",
        "    for user in users:\n",
        "      if user in purchased_user_list:\n",
        "        recommendations[user] = recommend_items(metadata[metadata['asin'].isin(ratings_trainings[ratings_trainings['reviewerID'] == user]['asin'].tolist())]['description'].tolist(), k)\n",
        "      else:\n",
        "        recommendations[user] = top_ten_rcom\n",
        "    \n",
        "    return recommendations\n",
        "\n",
        "ratings_by_user = recommender(ratings_trainings, users)\n",
        "#ratings_by_user"
      ],
      "metadata": {
        "id": "Lin4kA5JBnbJ"
      },
      "id": "Lin4kA5JBnbJ",
      "execution_count": 134,
      "outputs": []
    },
    {
      "cell_type": "markdown",
      "source": [
        "結果評估"
      ],
      "metadata": {
        "id": "Auy1KbRtCrSe"
      },
      "id": "Auy1KbRtCrSe"
    },
    {
      "cell_type": "code",
      "source": [
        "def evaluate(ratings_testings_by_user={}, ratings_by_user={}, method=None):\n",
        "    '''\n",
        "    * ratings_testings_by_user: dict 真實被購買的商品資料（2018-09-01 以後資料）\n",
        "    * ratings_by_user: dict 利用訓練資料學習的推薦商品\n",
        "    * method: str\n",
        "    * score: float\n",
        "    '''\n",
        "    total = 0\n",
        "    for d in ratings_testings_by_user:\n",
        "        if d in ratings_by_user:\n",
        "            total += len(set(ratings_by_user[d]) & set(ratings_testings_by_user[d]))\n",
        "\n",
        "    score = total / len(ratings_testings)\n",
        "    return score\n",
        "\n",
        "evaluate(ratings_testings_by_user, ratings_by_user)"
      ],
      "metadata": {
        "id": "XAblTo7JCs0U",
        "colab": {
          "base_uri": "https://localhost:8080/"
        },
        "outputId": "15207360-3e6a-4a3f-c658-fc9d4ff8c73e"
      },
      "id": "XAblTo7JCs0U",
      "execution_count": 135,
      "outputs": [
        {
          "output_type": "execute_result",
          "data": {
            "text/plain": [
              "0.13389830508474576"
            ]
          },
          "metadata": {},
          "execution_count": 135
        }
      ]
    },
    {
      "cell_type": "code",
      "source": [
        ""
      ],
      "metadata": {
        "id": "QXeO7OC5e4DA"
      },
      "id": "QXeO7OC5e4DA",
      "execution_count": null,
      "outputs": []
    }
  ],
  "metadata": {
    "kernelspec": {
      "display_name": "Python 3",
      "language": "python",
      "name": "python3"
    },
    "language_info": {
      "codemirror_mode": {
        "name": "ipython",
        "version": 3
      },
      "file_extension": ".py",
      "mimetype": "text/x-python",
      "name": "python",
      "nbconvert_exporter": "python",
      "pygments_lexer": "ipython3",
      "version": "3.6.5"
    },
    "colab": {
      "name": "「Tim「S4- Content-based Filtering 」- HW2」",
      "provenance": [],
      "collapsed_sections": []
    }
  },
  "nbformat": 4,
  "nbformat_minor": 5
}