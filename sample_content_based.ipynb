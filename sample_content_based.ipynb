{
  "cells": [
    {
      "cell_type": "markdown",
      "metadata": {
        "id": "view-in-github",
        "colab_type": "text"
      },
      "source": [
        "<a href=\"https://colab.research.google.com/github/limitlin840318/data-course-sample/blob/main/sample_content_based.ipynb\" target=\"_parent\"><img src=\"https://colab.research.google.com/assets/colab-badge.svg\" alt=\"Open In Colab\"/></a>"
      ]
    },
    {
      "cell_type": "markdown",
      "metadata": {
        "id": "MZclbxGREeZx"
      },
      "source": [
        "## 基礎建設"
      ],
      "id": "MZclbxGREeZx"
    },
    {
      "cell_type": "code",
      "execution_count": 1,
      "metadata": {
        "scrolled": true,
        "id": "oTfJxIZ7EeZz"
      },
      "outputs": [],
      "source": [
        "import pandas as pd\n",
        "import gzip, json\n",
        "\n",
        "def parse(path):\n",
        "    g = gzip.open(path, 'rb')\n",
        "    for l in g:\n",
        "        yield json.loads(l)\n",
        "\n",
        "def getDF(path):\n",
        "    i = 0\n",
        "    df = {}\n",
        "    for d in parse(path):\n",
        "        df[i] = d\n",
        "        i += 1\n",
        "    return pd.DataFrame.from_dict(df, orient='index')"
      ],
      "id": "oTfJxIZ7EeZz"
    },
    {
      "cell_type": "code",
      "source": [
        "import warnings\n",
        "warnings.filterwarnings(\"ignore\")\n",
        "import pandas as pd\n",
        "import numpy as np"
      ],
      "metadata": {
        "id": "AGQcxRuZiNYr"
      },
      "id": "AGQcxRuZiNYr",
      "execution_count": 2,
      "outputs": []
    },
    {
      "cell_type": "markdown",
      "metadata": {
        "id": "S3FRKjMjEeZ1"
      },
      "source": [
        "## 載入資料"
      ],
      "id": "S3FRKjMjEeZ1"
    },
    {
      "cell_type": "code",
      "execution_count": 34,
      "metadata": {
        "colab": {
          "base_uri": "https://localhost:8080/"
        },
        "id": "hfNZAOuSEeZ2",
        "outputId": "4fdd6744-b562-4c4b-f3ce-75e3680db716"
      },
      "outputs": [
        {
          "output_type": "stream",
          "name": "stdout",
          "text": [
            "--2022-01-02 18:04:36--  http://deepyeti.ucsd.edu/jianmo/amazon/categoryFilesSmall/All_Beauty.csv\n",
            "Resolving deepyeti.ucsd.edu (deepyeti.ucsd.edu)... 169.228.63.50\n",
            "Connecting to deepyeti.ucsd.edu (deepyeti.ucsd.edu)|169.228.63.50|:80... connected.\n",
            "HTTP request sent, awaiting response... 200 OK\n",
            "Length: 15499476 (15M) [application/octet-stream]\n",
            "Saving to: ‘All_Beauty.csv.8’\n",
            "\n",
            "All_Beauty.csv.8    100%[===================>]  14.78M  8.81MB/s    in 1.7s    \n",
            "\n",
            "2022-01-02 18:04:38 (8.81 MB/s) - ‘All_Beauty.csv.8’ saved [15499476/15499476]\n",
            "\n",
            "--2022-01-02 18:04:38--  http://deepyeti.ucsd.edu/jianmo/amazon/metaFiles2/meta_All_Beauty.json.gz\n",
            "Resolving deepyeti.ucsd.edu (deepyeti.ucsd.edu)... 169.228.63.50\n",
            "Connecting to deepyeti.ucsd.edu (deepyeti.ucsd.edu)|169.228.63.50|:80... connected.\n",
            "HTTP request sent, awaiting response... 200 OK\n",
            "Length: 10329961 (9.9M) [application/octet-stream]\n",
            "Saving to: ‘meta_All_Beauty.json.gz.8’\n",
            "\n",
            "meta_All_Beauty.jso 100%[===================>]   9.85M  6.58MB/s    in 1.5s    \n",
            "\n",
            "2022-01-02 18:04:40 (6.58 MB/s) - ‘meta_All_Beauty.json.gz.8’ saved [10329961/10329961]\n",
            "\n"
          ]
        }
      ],
      "source": [
        "!wget http://deepyeti.ucsd.edu/jianmo/amazon/categoryFilesSmall/All_Beauty.csv\n",
        "!wget http://deepyeti.ucsd.edu/jianmo/amazon/metaFiles2/meta_All_Beauty.json.gz"
      ],
      "id": "hfNZAOuSEeZ2"
    },
    {
      "cell_type": "code",
      "execution_count": 35,
      "metadata": {
        "id": "FC58K8_dEeZ3"
      },
      "outputs": [],
      "source": [
        "#商品的基本資訊 metadata,購買商品的紀錄 ratings\n",
        "metadata = getDF('/content/meta_All_Beauty.json.gz')\n",
        "ratings = pd.read_csv('/content/All_Beauty.csv', names=['asin', 'reviewerID', 'overall', 'unixReviewTime'], header=None)"
      ],
      "id": "FC58K8_dEeZ3"
    },
    {
      "cell_type": "markdown",
      "metadata": {
        "id": "5QRC8P4CEeZ5"
      },
      "source": [
        "## 資料整理"
      ],
      "id": "5QRC8P4CEeZ5"
    },
    {
      "cell_type": "code",
      "execution_count": 36,
      "metadata": {
        "id": "xLc1tIvBEeZ6"
      },
      "outputs": [],
      "source": [
        "ratings['DATE'] = pd.to_datetime(ratings['unixReviewTime'], unit='s')"
      ],
      "id": "xLc1tIvBEeZ6"
    },
    {
      "cell_type": "code",
      "source": [
        "# drop duplicates rows\n",
        "metadata_clean = metadata.loc[metadata.astype(str).drop_duplicates().index]"
      ],
      "metadata": {
        "id": "DzWE59zBZiVa"
      },
      "id": "DzWE59zBZiVa",
      "execution_count": 37,
      "outputs": []
    },
    {
      "cell_type": "code",
      "source": [
        "# 商品資訊- select useful columns\n",
        "metadata_clean = metadata_clean[['asin', 'brand', 'title', 'rank','description']]"
      ],
      "metadata": {
        "id": "eCWkWeLdlIMC"
      },
      "id": "eCWkWeLdlIMC",
      "execution_count": 38,
      "outputs": []
    },
    {
      "cell_type": "code",
      "source": [
        "metadata_clean['rank'] = metadata_clean['rank'].str.replace('&amp;', '&')\n",
        "#metadata_clean['rank'].fillna('0', inplace = True)\n",
        "# 商品資訊-買什麼種類\n",
        "metadata_clean['categories'] = metadata_clean['rank'].str.split(' in ').str[1]\n",
        "metadata_clean['categories'] = metadata_clean['categories'].str[:-2]\n",
        "\n",
        "# 取出字串前段數字,取代掉千分位\n",
        "metadata_clean['rank'] = metadata_clean['rank'].str.split(expand = True)[0].str.replace(',', '')\n",
        "# 排名，轉換型別\n",
        "metadata_clean['rank'] = pd.to_numeric(metadata_clean['rank'])"
      ],
      "metadata": {
        "id": "Nj5QRZE5Z6mj"
      },
      "id": "Nj5QRZE5Z6mj",
      "execution_count": 39,
      "outputs": []
    },
    {
      "cell_type": "code",
      "source": [
        "metadata_clean['categories'].unique()"
      ],
      "metadata": {
        "colab": {
          "base_uri": "https://localhost:8080/"
        },
        "id": "l-JR3HORuHO4",
        "outputId": "00e9f0b2-7ebe-46c2-949b-f36eed891c31"
      },
      "id": "l-JR3HORuHO4",
      "execution_count": 40,
      "outputs": [
        {
          "output_type": "execute_result",
          "data": {
            "text/plain": [
              "array(['Beauty & Personal Care', nan, 'Grocery & Gourmet Food',\n",
              "       'Health & Household', 'Sports & Outdoors', 'Toys & Games', 'Baby',\n",
              "       'Clothing, Shoes & Jewelry', 'Home & Kitchen', 'Automotive',\n",
              "       'Tools & Home Improvement'], dtype=object)"
            ]
          },
          "metadata": {},
          "execution_count": 40
        }
      ]
    },
    {
      "cell_type": "code",
      "source": [
        "metadata_clean['title'] = metadata_clean['title'].str.replace('&amp;', '&')"
      ],
      "metadata": {
        "id": "tEXT-D3VHh45"
      },
      "id": "tEXT-D3VHh45",
      "execution_count": 41,
      "outputs": []
    },
    {
      "cell_type": "code",
      "source": [
        "spec_chars = [\"!\",'\"',\"#\",\"%\",\"&\",\"'\",\"(\",\")\",\n",
        "              \"*\",\"+\",\",\",\"-\",\".\",\"/\",\":\",\";\",\"<\",\n",
        "              \"=\",\">\",\"?\",\"@\",\"[\",\"\\\\\",\"]\",\"^\",\"_\",\n",
        "              \"`\",\"{\",\"|\",\"}\",\"~\",\"–\"]"
      ],
      "metadata": {
        "id": "p7gQtReGzRuC"
      },
      "id": "p7gQtReGzRuC",
      "execution_count": 42,
      "outputs": []
    },
    {
      "cell_type": "code",
      "source": [
        "metadata_clean['description'] = metadata_clean['description'].str[0].replace(np.nan, '')"
      ],
      "metadata": {
        "id": "DQ1aO_iNv8FJ"
      },
      "id": "DQ1aO_iNv8FJ",
      "execution_count": 43,
      "outputs": []
    },
    {
      "cell_type": "code",
      "source": [
        "for char in spec_chars:\n",
        "    metadata_clean['description'] = metadata_clean['description'].str.replace(char, ' ')\n",
        "metadata_clean['description'] = metadata_clean['description'].str.split().str.join(\" \")"
      ],
      "metadata": {
        "id": "OPAtbhNXzjFl"
      },
      "id": "OPAtbhNXzjFl",
      "execution_count": 44,
      "outputs": []
    },
    {
      "cell_type": "code",
      "source": [
        "metadata_clean['desc'] = metadata_clean[\"title\"] +' '+ metadata_clean[\"description\"]\n",
        "#metadata_clean['desc'] = metadata_clean['categories']  +' '+ metadata_clean[\"title\"] +' '+ metadata_clean[\"description\"]\n",
        "metadata_clean['desc'] = metadata_clean['desc'].str.lower()"
      ],
      "metadata": {
        "id": "UMVY1-CPuLRk"
      },
      "id": "UMVY1-CPuLRk",
      "execution_count": 45,
      "outputs": []
    },
    {
      "cell_type": "code",
      "source": [
        "for char in spec_chars:\n",
        "    metadata_clean['desc'] = metadata_clean['desc'].str.replace(char, ' ')\n",
        "metadata_clean['desc'] = metadata_clean['desc'].str.split().str.join(\" \")"
      ],
      "metadata": {
        "id": "_cGyKYLexB9p"
      },
      "id": "_cGyKYLexB9p",
      "execution_count": 46,
      "outputs": []
    },
    {
      "cell_type": "code",
      "source": [
        "#asin mean score\n",
        "asin_rating = ratings.groupby('asin')[['overall']].mean().reset_index().rename(columns={\"asin\": \"asin\", \"overall\": \"rating_mean\"})"
      ],
      "metadata": {
        "id": "GH6yYN37sq_0"
      },
      "id": "GH6yYN37sq_0",
      "execution_count": 47,
      "outputs": []
    },
    {
      "cell_type": "code",
      "source": [
        "metadata_clean = pd.merge(metadata_clean,asin_rating , on=\"asin\", how=\"left\")"
      ],
      "metadata": {
        "id": "c5FMNxSYsr7U"
      },
      "id": "c5FMNxSYsr7U",
      "execution_count": 48,
      "outputs": []
    },
    {
      "cell_type": "code",
      "source": [
        "metadata_clean.head(10)"
      ],
      "metadata": {
        "colab": {
          "base_uri": "https://localhost:8080/",
          "height": 1000
        },
        "id": "l_Q1zwFgUDc_",
        "outputId": "ea5bc85a-59df-4c72-81fb-66b513ba3c3c"
      },
      "id": "l_Q1zwFgUDc_",
      "execution_count": 49,
      "outputs": [
        {
          "output_type": "execute_result",
          "data": {
            "text/html": [
              "\n",
              "  <div id=\"df-a268b432-dd3f-4c97-9d27-c604f5154eb8\">\n",
              "    <div class=\"colab-df-container\">\n",
              "      <div>\n",
              "<style scoped>\n",
              "    .dataframe tbody tr th:only-of-type {\n",
              "        vertical-align: middle;\n",
              "    }\n",
              "\n",
              "    .dataframe tbody tr th {\n",
              "        vertical-align: top;\n",
              "    }\n",
              "\n",
              "    .dataframe thead th {\n",
              "        text-align: right;\n",
              "    }\n",
              "</style>\n",
              "<table border=\"1\" class=\"dataframe\">\n",
              "  <thead>\n",
              "    <tr style=\"text-align: right;\">\n",
              "      <th></th>\n",
              "      <th>asin</th>\n",
              "      <th>brand</th>\n",
              "      <th>title</th>\n",
              "      <th>rank</th>\n",
              "      <th>description</th>\n",
              "      <th>categories</th>\n",
              "      <th>desc</th>\n",
              "      <th>rating_mean</th>\n",
              "    </tr>\n",
              "  </thead>\n",
              "  <tbody>\n",
              "    <tr>\n",
              "      <th>0</th>\n",
              "      <td>6546546450</td>\n",
              "      <td>idea village</td>\n",
              "      <td>Loud 'N Clear&amp;trade; Personal Sound Amplifier</td>\n",
              "      <td>2938573.0</td>\n",
              "      <td>Loud N Clear Personal Sound Amplifier allows y...</td>\n",
              "      <td>Beauty &amp; Personal Care</td>\n",
              "      <td>loud n clear trade personal sound amplifier lo...</td>\n",
              "      <td>2.5</td>\n",
              "    </tr>\n",
              "    <tr>\n",
              "      <th>1</th>\n",
              "      <td>7178680776</td>\n",
              "      <td></td>\n",
              "      <td>No7 Lift &amp; Luminate Triple Action Serum 50ml b...</td>\n",
              "      <td>872854.0</td>\n",
              "      <td>No7 Lift Luminate Triple Action Serum 50ml by ...</td>\n",
              "      <td>Beauty &amp; Personal Care</td>\n",
              "      <td>no7 lift luminate triple action serum 50ml by ...</td>\n",
              "      <td>3.0</td>\n",
              "    </tr>\n",
              "    <tr>\n",
              "      <th>2</th>\n",
              "      <td>7250468162</td>\n",
              "      <td>No7</td>\n",
              "      <td>No7 Stay Perfect Foundation Cool Vanilla by No7</td>\n",
              "      <td>956696.0</td>\n",
              "      <td>No7 Stay Perfect Foundation now stays perfect ...</td>\n",
              "      <td>Beauty &amp; Personal Care</td>\n",
              "      <td>no7 stay perfect foundation cool vanilla by no...</td>\n",
              "      <td>5.0</td>\n",
              "    </tr>\n",
              "    <tr>\n",
              "      <th>3</th>\n",
              "      <td>7367905066</td>\n",
              "      <td></td>\n",
              "      <td>Wella Koleston Perfect Hair Colour 44/44 Mediu...</td>\n",
              "      <td>1870258.0</td>\n",
              "      <td></td>\n",
              "      <td>Beauty &amp; Personal Care</td>\n",
              "      <td>wella koleston perfect hair colour 44 44 mediu...</td>\n",
              "      <td>5.0</td>\n",
              "    </tr>\n",
              "    <tr>\n",
              "      <th>4</th>\n",
              "      <td>7414204790</td>\n",
              "      <td>Pirmal Healthcare</td>\n",
              "      <td>Lacto Calamine Skin Balance Oil control 120 ml...</td>\n",
              "      <td>67701.0</td>\n",
              "      <td>Lacto Calamine Skin Balance Daily Nourishing L...</td>\n",
              "      <td>Beauty &amp; Personal Care</td>\n",
              "      <td>lacto calamine skin balance oil control 120 ml...</td>\n",
              "      <td>4.4</td>\n",
              "    </tr>\n",
              "    <tr>\n",
              "      <th>5</th>\n",
              "      <td>7535842801</td>\n",
              "      <td>Mary Kay</td>\n",
              "      <td>Mary Kay Satin Hands Hand Cream Travel MINI Si...</td>\n",
              "      <td>699317.0</td>\n",
              "      <td>Mary Kay Satin Hands Peach Hand Cream Travel S...</td>\n",
              "      <td>Beauty &amp; Personal Care</td>\n",
              "      <td>mary kay satin hands hand cream travel mini si...</td>\n",
              "      <td>4.0</td>\n",
              "    </tr>\n",
              "    <tr>\n",
              "      <th>6</th>\n",
              "      <td>7538626107</td>\n",
              "      <td></td>\n",
              "      <td>Unique Custom Cast Iron Liner Shader Tattoo Ma...</td>\n",
              "      <td>3206658.0</td>\n",
              "      <td></td>\n",
              "      <td>Beauty &amp; Personal Care</td>\n",
              "      <td>unique custom cast iron liner shader tattoo ma...</td>\n",
              "      <td>2.0</td>\n",
              "    </tr>\n",
              "    <tr>\n",
              "      <th>7</th>\n",
              "      <td>8279996397</td>\n",
              "      <td>Chango</td>\n",
              "      <td>Imagen Bendita Por Su Santidad Our Lady of Cha...</td>\n",
              "      <td>1741858.0</td>\n",
              "      <td>According to the legend in 1613 two brothers o...</td>\n",
              "      <td>Beauty &amp; Personal Care</td>\n",
              "      <td>imagen bendita por su santidad our lady of cha...</td>\n",
              "      <td>5.0</td>\n",
              "    </tr>\n",
              "    <tr>\n",
              "      <th>8</th>\n",
              "      <td>8637910351</td>\n",
              "      <td>Srpska knjizevna zadruga</td>\n",
              "      <td>Mali princ</td>\n",
              "      <td>2136432.0</td>\n",
              "      <td>Novi prevod proslavljene knjige Zadruga objavl...</td>\n",
              "      <td>Beauty &amp; Personal Care</td>\n",
              "      <td>mali princ novi prevod proslavljene knjige zad...</td>\n",
              "      <td>5.0</td>\n",
              "    </tr>\n",
              "    <tr>\n",
              "      <th>9</th>\n",
              "      <td>8867326759</td>\n",
              "      <td>Sunatoria</td>\n",
              "      <td>Moleskine Payne's Grey Card Wallet (Moleskine ...</td>\n",
              "      <td>1260339.0</td>\n",
              "      <td>Moleskine s Card Wallet in Payne s Grey is the...</td>\n",
              "      <td>Beauty &amp; Personal Care</td>\n",
              "      <td>moleskine payne s grey card wallet moleskine n...</td>\n",
              "      <td>5.0</td>\n",
              "    </tr>\n",
              "  </tbody>\n",
              "</table>\n",
              "</div>\n",
              "      <button class=\"colab-df-convert\" onclick=\"convertToInteractive('df-a268b432-dd3f-4c97-9d27-c604f5154eb8')\"\n",
              "              title=\"Convert this dataframe to an interactive table.\"\n",
              "              style=\"display:none;\">\n",
              "        \n",
              "  <svg xmlns=\"http://www.w3.org/2000/svg\" height=\"24px\"viewBox=\"0 0 24 24\"\n",
              "       width=\"24px\">\n",
              "    <path d=\"M0 0h24v24H0V0z\" fill=\"none\"/>\n",
              "    <path d=\"M18.56 5.44l.94 2.06.94-2.06 2.06-.94-2.06-.94-.94-2.06-.94 2.06-2.06.94zm-11 1L8.5 8.5l.94-2.06 2.06-.94-2.06-.94L8.5 2.5l-.94 2.06-2.06.94zm10 10l.94 2.06.94-2.06 2.06-.94-2.06-.94-.94-2.06-.94 2.06-2.06.94z\"/><path d=\"M17.41 7.96l-1.37-1.37c-.4-.4-.92-.59-1.43-.59-.52 0-1.04.2-1.43.59L10.3 9.45l-7.72 7.72c-.78.78-.78 2.05 0 2.83L4 21.41c.39.39.9.59 1.41.59.51 0 1.02-.2 1.41-.59l7.78-7.78 2.81-2.81c.8-.78.8-2.07 0-2.86zM5.41 20L4 18.59l7.72-7.72 1.47 1.35L5.41 20z\"/>\n",
              "  </svg>\n",
              "      </button>\n",
              "      \n",
              "  <style>\n",
              "    .colab-df-container {\n",
              "      display:flex;\n",
              "      flex-wrap:wrap;\n",
              "      gap: 12px;\n",
              "    }\n",
              "\n",
              "    .colab-df-convert {\n",
              "      background-color: #E8F0FE;\n",
              "      border: none;\n",
              "      border-radius: 50%;\n",
              "      cursor: pointer;\n",
              "      display: none;\n",
              "      fill: #1967D2;\n",
              "      height: 32px;\n",
              "      padding: 0 0 0 0;\n",
              "      width: 32px;\n",
              "    }\n",
              "\n",
              "    .colab-df-convert:hover {\n",
              "      background-color: #E2EBFA;\n",
              "      box-shadow: 0px 1px 2px rgba(60, 64, 67, 0.3), 0px 1px 3px 1px rgba(60, 64, 67, 0.15);\n",
              "      fill: #174EA6;\n",
              "    }\n",
              "\n",
              "    [theme=dark] .colab-df-convert {\n",
              "      background-color: #3B4455;\n",
              "      fill: #D2E3FC;\n",
              "    }\n",
              "\n",
              "    [theme=dark] .colab-df-convert:hover {\n",
              "      background-color: #434B5C;\n",
              "      box-shadow: 0px 1px 3px 1px rgba(0, 0, 0, 0.15);\n",
              "      filter: drop-shadow(0px 1px 2px rgba(0, 0, 0, 0.3));\n",
              "      fill: #FFFFFF;\n",
              "    }\n",
              "  </style>\n",
              "\n",
              "      <script>\n",
              "        const buttonEl =\n",
              "          document.querySelector('#df-a268b432-dd3f-4c97-9d27-c604f5154eb8 button.colab-df-convert');\n",
              "        buttonEl.style.display =\n",
              "          google.colab.kernel.accessAllowed ? 'block' : 'none';\n",
              "\n",
              "        async function convertToInteractive(key) {\n",
              "          const element = document.querySelector('#df-a268b432-dd3f-4c97-9d27-c604f5154eb8');\n",
              "          const dataTable =\n",
              "            await google.colab.kernel.invokeFunction('convertToInteractive',\n",
              "                                                     [key], {});\n",
              "          if (!dataTable) return;\n",
              "\n",
              "          const docLinkHtml = 'Like what you see? Visit the ' +\n",
              "            '<a target=\"_blank\" href=https://colab.research.google.com/notebooks/data_table.ipynb>data table notebook</a>'\n",
              "            + ' to learn more about interactive tables.';\n",
              "          element.innerHTML = '';\n",
              "          dataTable['output_type'] = 'display_data';\n",
              "          await google.colab.output.renderOutput(dataTable, element);\n",
              "          const docLink = document.createElement('div');\n",
              "          docLink.innerHTML = docLinkHtml;\n",
              "          element.appendChild(docLink);\n",
              "        }\n",
              "      </script>\n",
              "    </div>\n",
              "  </div>\n",
              "  "
            ],
            "text/plain": [
              "         asin  ... rating_mean\n",
              "0  6546546450  ...         2.5\n",
              "1  7178680776  ...         3.0\n",
              "2  7250468162  ...         5.0\n",
              "3  7367905066  ...         5.0\n",
              "4  7414204790  ...         4.4\n",
              "5  7535842801  ...         4.0\n",
              "6  7538626107  ...         2.0\n",
              "7  8279996397  ...         5.0\n",
              "8  8637910351  ...         5.0\n",
              "9  8867326759  ...         5.0\n",
              "\n",
              "[10 rows x 8 columns]"
            ]
          },
          "metadata": {},
          "execution_count": 49
        }
      ]
    },
    {
      "cell_type": "code",
      "source": [
        "metadata_clean = metadata_clean[['asin','brand','rank','description','desc']]"
      ],
      "metadata": {
        "id": "EqKnG9VtbZrX"
      },
      "id": "EqKnG9VtbZrX",
      "execution_count": 50,
      "outputs": []
    },
    {
      "cell_type": "markdown",
      "source": [
        "## 資料切分"
      ],
      "metadata": {
        "id": "OkCc0t_Ai8Un"
      },
      "id": "OkCc0t_Ai8Un"
    },
    {
      "cell_type": "code",
      "execution_count": 20,
      "metadata": {
        "id": "-8BEzAasEeZ6"
      },
      "outputs": [],
      "source": [
        "#依上次結果使用近三個月訓練資料\n",
        "ratings_trainings = ratings[\n",
        "    (ratings['DATE'] < '2018-09-01')\n",
        "    ]\n",
        "\n",
        "ratings_testings = ratings[\n",
        "    (ratings['DATE'] >= '2018-09-01') & \n",
        "    (ratings['DATE'] <= '2018-09-30')\n",
        "]"
      ],
      "id": "-8BEzAasEeZ6"
    },
    {
      "cell_type": "code",
      "source": [
        "ratings_testings_by_user = ratings_testings.groupby('reviewerID').agg(list).reset_index()[['reviewerID', 'asin']].to_dict('records')\n",
        "ratings_testings_by_user = { rating['reviewerID']: rating['asin'] for rating in ratings_testings_by_user }\n",
        "users = list(ratings_testings_by_user.keys())"
      ],
      "metadata": {
        "id": "UZtRFWtMJALR"
      },
      "id": "UZtRFWtMJALR",
      "execution_count": 21,
      "outputs": []
    },
    {
      "cell_type": "markdown",
      "source": [
        "# Content-Based recommendation"
      ],
      "metadata": {
        "id": "o9dSJLQTkw1m"
      },
      "id": "o9dSJLQTkw1m"
    },
    {
      "cell_type": "markdown",
      "source": [
        "一、Content-Based (description) + Rule-based (最近三個月內)"
      ],
      "metadata": {
        "id": "zW2aVUrrCXII"
      },
      "id": "zW2aVUrrCXII"
    },
    {
      "cell_type": "markdown",
      "source": [
        "產生推薦\n",
        "*   「描述」- tfidf矩陣\n",
        "*   cosine_similarity，回傳k個最相近的物品 "
      ],
      "metadata": {
        "id": "O356cFn3BdZ0"
      },
      "id": "O356cFn3BdZ0"
    },
    {
      "cell_type": "code",
      "source": [
        "from sklearn.feature_extraction.text import TfidfVectorizer\n",
        "\n",
        "# 計算商品用標題所表示的 tfidf 矩陣\n",
        "df = metadata_clean.drop_duplicates('description')\n",
        "tf = TfidfVectorizer(analyzer='word', stop_words='english')"
      ],
      "metadata": {
        "id": "oJQF0rxCAAAo"
      },
      "id": "oJQF0rxCAAAo",
      "execution_count": 22,
      "outputs": []
    },
    {
      "cell_type": "code",
      "source": [
        "tfidf_matrix = tf.fit_transform(df['description'])"
      ],
      "metadata": {
        "id": "VYFqrXqvX-ET"
      },
      "id": "VYFqrXqvX-ET",
      "execution_count": 23,
      "outputs": []
    },
    {
      "cell_type": "code",
      "source": [
        "# 計算商品間的相似程度\n",
        "from sklearn.metrics.pairwise import cosine_similarity\n",
        "similarity_matrix = cosine_similarity(tfidf_matrix)\n",
        "mapping = pd.Series(df.index,index = df['description'])"
      ],
      "metadata": {
        "id": "TtvT0dyh7kbE"
      },
      "id": "TtvT0dyh7kbE",
      "execution_count": 24,
      "outputs": []
    },
    {
      "cell_type": "code",
      "source": [
        "# 每個商品回傳 k 個最相近的商品\n",
        "def recommend_item(item_input, k=2):\n",
        "    try:\n",
        "        item_index = mapping[item_input]\n",
        "        similarity_score = list(enumerate(similarity_matrix[item_index]))\n",
        "        similarity_score = sorted(similarity_score, key=lambda x: x[1], reverse=True)\n",
        "        similarity_score = similarity_score[:k]\n",
        "        item_indices = [i[0] for i in similarity_score]\n",
        "        return (df['asin'].iloc[item_indices].tolist())\n",
        "    except:\n",
        "        return []\n",
        "\n",
        "# 利用使用者購買過的商品產生推薦\n",
        "def recommend_items(items, k):\n",
        "    res = []\n",
        "    for d in items:\n",
        "        res.extend(recommend_item(d, k))\n",
        "    return res"
      ],
      "metadata": {
        "id": "Rf955OM33PbH"
      },
      "id": "Rf955OM33PbH",
      "execution_count": 25,
      "outputs": []
    },
    {
      "cell_type": "code",
      "source": [
        "#for user in users:\n",
        "  #print(ratings_trainings[ratings_trainings['reviewerID'] == user])\n",
        "  #print(metadata[metadata['asin'].isin(ratings_trainings[ratings_trainings['reviewerID'] == user]['asin'].tolist())]['title'].tolist())\n",
        "  #print(recommend_items(metadata[metadata['asin'].isin(ratings_trainings[ratings_trainings['reviewerID'] == user]['asin'].tolist())]['title'].tolist(), 2))"
      ],
      "metadata": {
        "id": "SS3LSQc2EpTJ"
      },
      "id": "SS3LSQc2EpTJ",
      "execution_count": null,
      "outputs": []
    },
    {
      "cell_type": "code",
      "source": [
        "def recommender(training_data, users=[], k=10):\n",
        "    '''\n",
        "    * training_data: dataframe 輸入的訓練資料集（2018-09-01 以前資料）\n",
        "    * users: [] 需要被推薦的使用者\n",
        "    * k: int 每個使用者需要推薦的商品數\n",
        "    * recommendations: dict\n",
        "      {\n",
        "          使用者一： [推薦商品一, 推薦商品二, ...],\n",
        "          使用者二： [...], ...\n",
        "      }\n",
        "    '''\n",
        "    recommendations = {}\n",
        "    '''\n",
        "    content-based\n",
        "    '''\n",
        "    ratings_trainings = training_data\n",
        "    # 近三個月作為沒有購買記錄使用者的推薦商品\n",
        "    ratings_trainings = ratings[\n",
        "    (ratings['DATE'] < '2018-09-01') & (ratings['DATE'] >= '2018-06-01')\n",
        "    ]\n",
        "\n",
        "    purchased_user_list = ratings_trainings.reviewerID.tolist()\n",
        "    top_ten = ratings_trainings.groupby('asin').count().sort_values('overall',ascending=False).head(k).index.tolist()\n",
        "\n",
        "    for user in users:\n",
        "      if user in purchased_user_list:\n",
        "        recommendations[user] = recommend_items(metadata[metadata['asin'].isin(ratings_trainings[ratings_trainings['reviewerID'] == user]['asin'].tolist())]['description'].tolist(), k)\n",
        "      else:\n",
        "        recommendations[user] = top_ten\n",
        "    \n",
        "    return recommendations\n",
        "\n",
        "ratings_by_user = recommender(ratings_trainings, users)"
      ],
      "metadata": {
        "id": "Lin4kA5JBnbJ"
      },
      "id": "Lin4kA5JBnbJ",
      "execution_count": 26,
      "outputs": []
    },
    {
      "cell_type": "markdown",
      "source": [
        "結果評估"
      ],
      "metadata": {
        "id": "Auy1KbRtCrSe"
      },
      "id": "Auy1KbRtCrSe"
    },
    {
      "cell_type": "code",
      "source": [
        "def evaluate(ratings_testings_by_user={}, ratings_by_user={}, method=None):\n",
        "    '''\n",
        "    * ratings_testings_by_user: dict 真實被購買的商品資料（2018-09-01 以後資料）\n",
        "    * ratings_by_user: dict 利用訓練資料學習的推薦商品\n",
        "    * method: str\n",
        "    * score: float\n",
        "    '''\n",
        "    total = 0\n",
        "    for d in ratings_testings_by_user:\n",
        "        if d in ratings_by_user:\n",
        "            total += len(set(ratings_by_user[d]) & set(ratings_testings_by_user[d]))\n",
        "\n",
        "    score = total / len(ratings_testings)\n",
        "    return score\n",
        "\n",
        "evaluate(ratings_testings_by_user, ratings_by_user)"
      ],
      "metadata": {
        "id": "XAblTo7JCs0U",
        "colab": {
          "base_uri": "https://localhost:8080/"
        },
        "outputId": "1f7bbf8f-b4be-4768-f102-f81bc3b17108"
      },
      "id": "XAblTo7JCs0U",
      "execution_count": 27,
      "outputs": [
        {
          "output_type": "execute_result",
          "data": {
            "text/plain": [
              "0.13389830508474576"
            ]
          },
          "metadata": {},
          "execution_count": 27
        }
      ]
    },
    {
      "cell_type": "markdown",
      "source": [
        "二、Content-Based (混合式欄位desc) "
      ],
      "metadata": {
        "id": "j4f64r812Y8l"
      },
      "id": "j4f64r812Y8l"
    },
    {
      "cell_type": "markdown",
      "source": [
        "產生推薦\n",
        "*   「desc」- tfidf矩陣\n",
        "*   cosine_similarity，回傳k個最相近的物品 "
      ],
      "metadata": {
        "id": "dReyR2vT2nGW"
      },
      "id": "dReyR2vT2nGW"
    },
    {
      "cell_type": "code",
      "source": [
        "from sklearn.feature_extraction.text import TfidfVectorizer\n",
        "\n",
        "# 計算商品用標題所表示的 tfidf 矩陣\n",
        "df = metadata_clean.drop_duplicates('desc')\n",
        "tf = TfidfVectorizer(analyzer='word', stop_words='english')"
      ],
      "metadata": {
        "id": "ce5hEO4b2oXs"
      },
      "id": "ce5hEO4b2oXs",
      "execution_count": 51,
      "outputs": []
    },
    {
      "cell_type": "code",
      "source": [
        "tfidf_matrix = tf.fit_transform(df['desc'].values.astype('U'))"
      ],
      "metadata": {
        "id": "sD6CQvWW2r4c"
      },
      "id": "sD6CQvWW2r4c",
      "execution_count": 52,
      "outputs": []
    },
    {
      "cell_type": "code",
      "source": [
        "# 計算商品間的相似程度\n",
        "from sklearn.metrics.pairwise import cosine_similarity\n",
        "similarity_matrix = cosine_similarity(tfidf_matrix)\n",
        "mapping = pd.Series(df.index,index = df['desc'])"
      ],
      "metadata": {
        "id": "1w6O77hm4Oum"
      },
      "id": "1w6O77hm4Oum",
      "execution_count": null,
      "outputs": []
    },
    {
      "cell_type": "markdown",
      "source": [
        "記憶體耗盡.....\n"
      ],
      "metadata": {
        "id": "4l2Hseen_9jm"
      },
      "id": "4l2Hseen_9jm"
    },
    {
      "cell_type": "code",
      "source": [
        ""
      ],
      "metadata": {
        "id": "HpDJG-Sj__hj"
      },
      "id": "HpDJG-Sj__hj",
      "execution_count": null,
      "outputs": []
    }
  ],
  "metadata": {
    "kernelspec": {
      "display_name": "Python 3",
      "language": "python",
      "name": "python3"
    },
    "language_info": {
      "codemirror_mode": {
        "name": "ipython",
        "version": 3
      },
      "file_extension": ".py",
      "mimetype": "text/x-python",
      "name": "python",
      "nbconvert_exporter": "python",
      "pygments_lexer": "ipython3",
      "version": "3.6.5"
    },
    "colab": {
      "name": "Tim「S4- Content-based Filtering 」- HW2",
      "provenance": [],
      "collapsed_sections": [],
      "include_colab_link": true
    }
  },
  "nbformat": 4,
  "nbformat_minor": 5
}